{
 "cells": [
  {
   "metadata": {},
   "cell_type": "markdown",
   "source": "не успеваю нормально реализовать mvp",
   "id": "34eca28d12649082"
  },
  {
   "cell_type": "code",
   "id": "initial_id",
   "metadata": {
    "collapsed": true,
    "ExecuteTime": {
     "end_time": "2025-01-28T04:01:10.490890Z",
     "start_time": "2025-01-28T04:01:10.486203Z"
    }
   },
   "source": [
    "from sklearn.feature_extraction.text import CountVectorizer\n",
    "from sklearn.pipeline import Pipeline\n",
    "from sklearn.linear_model import LinearRegression\n",
    "from sklearn.model_selection import StratifiedKFold\n",
    "\n",
    "import pandas as pd\n",
    "import numpy as np\n",
    "from src.config import BaseConfig\n",
    "from src.modeling.metrics import weighted_accuracy\n",
    "\n",
    "config = BaseConfig()"
   ],
   "outputs": [],
   "execution_count": 121
  },
  {
   "metadata": {
    "ExecuteTime": {
     "end_time": "2025-01-28T04:01:10.982237Z",
     "start_time": "2025-01-28T04:01:10.973829Z"
    }
   },
   "cell_type": "code",
   "source": [
    "path = config.processed_data_dir / \"final_data_to_train.json\"\n",
    "test_keys_path = config.processed_data_dir / \"test_tasks.csv\"\n",
    "df = pd.read_json(path)\n",
    "test_keys = pd.read_csv(test_keys_path)\n",
    "\n",
    "df.head(0)"
   ],
   "id": "f312f07b03576344",
   "outputs": [
    {
     "data": {
      "text/plain": [
       "Empty DataFrame\n",
       "Columns: [assignee_level_order, jira_key, weeks_since_member_join, time_to_complete_hours, task_text]\n",
       "Index: []"
      ],
      "text/html": [
       "<div>\n",
       "<style scoped>\n",
       "    .dataframe tbody tr th:only-of-type {\n",
       "        vertical-align: middle;\n",
       "    }\n",
       "\n",
       "    .dataframe tbody tr th {\n",
       "        vertical-align: top;\n",
       "    }\n",
       "\n",
       "    .dataframe thead th {\n",
       "        text-align: right;\n",
       "    }\n",
       "</style>\n",
       "<table border=\"1\" class=\"dataframe\">\n",
       "  <thead>\n",
       "    <tr style=\"text-align: right;\">\n",
       "      <th></th>\n",
       "      <th>assignee_level_order</th>\n",
       "      <th>jira_key</th>\n",
       "      <th>weeks_since_member_join</th>\n",
       "      <th>time_to_complete_hours</th>\n",
       "      <th>task_text</th>\n",
       "    </tr>\n",
       "  </thead>\n",
       "  <tbody>\n",
       "  </tbody>\n",
       "</table>\n",
       "</div>"
      ]
     },
     "execution_count": 122,
     "metadata": {},
     "output_type": "execute_result"
    }
   ],
   "execution_count": 122
  },
  {
   "metadata": {
    "ExecuteTime": {
     "end_time": "2025-01-28T04:01:11.432807Z",
     "start_time": "2025-01-28T04:01:11.430061Z"
    }
   },
   "cell_type": "code",
   "source": "test_keys.head(0)",
   "id": "976276a4285ca6e9",
   "outputs": [
    {
     "data": {
      "text/plain": [
       "Empty DataFrame\n",
       "Columns: [jira_key]\n",
       "Index: []"
      ],
      "text/html": [
       "<div>\n",
       "<style scoped>\n",
       "    .dataframe tbody tr th:only-of-type {\n",
       "        vertical-align: middle;\n",
       "    }\n",
       "\n",
       "    .dataframe tbody tr th {\n",
       "        vertical-align: top;\n",
       "    }\n",
       "\n",
       "    .dataframe thead th {\n",
       "        text-align: right;\n",
       "    }\n",
       "</style>\n",
       "<table border=\"1\" class=\"dataframe\">\n",
       "  <thead>\n",
       "    <tr style=\"text-align: right;\">\n",
       "      <th></th>\n",
       "      <th>jira_key</th>\n",
       "    </tr>\n",
       "  </thead>\n",
       "  <tbody>\n",
       "  </tbody>\n",
       "</table>\n",
       "</div>"
      ]
     },
     "execution_count": 123,
     "metadata": {},
     "output_type": "execute_result"
    }
   ],
   "execution_count": 123
  },
  {
   "metadata": {},
   "cell_type": "markdown",
   "source": "## Regression type of task",
   "id": "89b5010e61df7315"
  },
  {
   "metadata": {
    "ExecuteTime": {
     "end_time": "2025-01-28T04:01:12.081294Z",
     "start_time": "2025-01-28T04:01:12.076223Z"
    }
   },
   "cell_type": "code",
   "source": [
    "df[\"time_to_complete_hours_transformed\"] = df[\"time_to_complete_hours\"].clip(2, 12)  # clip between 2 and 24 hours\n",
    "df[\"time_to_complete_hours_transformed\"] = df[\"time_to_complete_hours_transformed\"] // 2 * 2  # round to the nearest even number\n",
    "\n",
    "y = df[\"time_to_complete_hours_transformed\"]\n",
    "x = df[\"task_text\"]\n",
    "\n",
    "y = y[~df.jira_key.isin(test_keys.jira_key)]\n",
    "x = x[~df.jira_key.isin(test_keys.jira_key)]\n",
    "\n",
    "y_test_from_manual = y[~df.jira_key.isin(test_keys.jira_key)]\n",
    "x_test_from_manual = x[~df.jira_key.isin(test_keys.jira_key)]\n",
    "\n",
    "y.value_counts().sort_index()"
   ],
   "id": "2b6293024b43a8fd",
   "outputs": [
    {
     "data": {
      "text/plain": [
       "time_to_complete_hours_transformed\n",
       "2     179\n",
       "4      98\n",
       "6      23\n",
       "8      77\n",
       "10      3\n",
       "12     73\n",
       "Name: count, dtype: int64"
      ]
     },
     "execution_count": 124,
     "metadata": {},
     "output_type": "execute_result"
    }
   ],
   "execution_count": 124
  },
  {
   "metadata": {
    "ExecuteTime": {
     "end_time": "2025-01-28T04:01:12.920155Z",
     "start_time": "2025-01-28T04:01:12.606200Z"
    }
   },
   "cell_type": "code",
   "source": [
    "pipe = Pipeline([\n",
    "    (\"tfidf\", CountVectorizer(ngram_range=(2, 2))),  # ngram_range=(1, 2) means that we will use unigrams and big\n",
    "    (\"lr\", LinearRegression()),\n",
    "])\n",
    "\n",
    "metrics = {\n",
    "    \"w_acc_test_transformed\": [],\n",
    "    \"w_acc_train_transformed\": [],\n",
    "    \"w_acc_test\": [],\n",
    "    \"w_acc_train\": []\n",
    "}\n",
    "skf = StratifiedKFold(n_splits=3, random_state=42, shuffle=True)\n",
    "\n",
    "for train_index, test_index in skf.split(x, y):\n",
    "    x_train, x_test = x.iloc[train_index], x.iloc[test_index]\n",
    "    y_train, y_test = y.iloc[train_index], y.iloc[test_index]\n",
    "\n",
    "    pipe.fit(x_train, y_train)\n",
    "\n",
    "    # evaluation\n",
    "    keys = [\"w_acc_test_transformed\", \"w_acc_train_transformed\", \"w_acc_test\", \"w_acc_train\"]\n",
    "    xs = [x_test, x_train, x_test, x_train]\n",
    "    ys = [y_test, y_train, df.loc[test_index, \"time_to_complete_hours\"], df.loc[train_index, \"time_to_complete_hours\"]]\n",
    "    for key, x_, y_ in zip(keys, xs, ys):\n",
    "        y_pred = pipe.predict(x_)\n",
    "        metrics[key].append(weighted_accuracy(y_, y_pred))\n",
    "\n",
    "metrics = {\n",
    "    k: {\n",
    "        \"mean\": np.mean(v),\n",
    "        \"std\": np.std(v)\n",
    "    }\n",
    "    for k, v in metrics.items()\n",
    "}\n",
    "\n",
    "pd.DataFrame(metrics)"
   ],
   "id": "741145b26e727136",
   "outputs": [
    {
     "data": {
      "text/plain": [
       "      w_acc_test_transformed  w_acc_train_transformed  w_acc_test  w_acc_train\n",
       "mean                0.136507                 0.999375   -0.158681    -0.310316\n",
       "std                 0.017799                 0.000879    0.066955     0.036505"
      ],
      "text/html": [
       "<div>\n",
       "<style scoped>\n",
       "    .dataframe tbody tr th:only-of-type {\n",
       "        vertical-align: middle;\n",
       "    }\n",
       "\n",
       "    .dataframe tbody tr th {\n",
       "        vertical-align: top;\n",
       "    }\n",
       "\n",
       "    .dataframe thead th {\n",
       "        text-align: right;\n",
       "    }\n",
       "</style>\n",
       "<table border=\"1\" class=\"dataframe\">\n",
       "  <thead>\n",
       "    <tr style=\"text-align: right;\">\n",
       "      <th></th>\n",
       "      <th>w_acc_test_transformed</th>\n",
       "      <th>w_acc_train_transformed</th>\n",
       "      <th>w_acc_test</th>\n",
       "      <th>w_acc_train</th>\n",
       "    </tr>\n",
       "  </thead>\n",
       "  <tbody>\n",
       "    <tr>\n",
       "      <th>mean</th>\n",
       "      <td>0.136507</td>\n",
       "      <td>0.999375</td>\n",
       "      <td>-0.158681</td>\n",
       "      <td>-0.310316</td>\n",
       "    </tr>\n",
       "    <tr>\n",
       "      <th>std</th>\n",
       "      <td>0.017799</td>\n",
       "      <td>0.000879</td>\n",
       "      <td>0.066955</td>\n",
       "      <td>0.036505</td>\n",
       "    </tr>\n",
       "  </tbody>\n",
       "</table>\n",
       "</div>"
      ]
     },
     "execution_count": 125,
     "metadata": {},
     "output_type": "execute_result"
    }
   ],
   "execution_count": 125
  },
  {
   "metadata": {
    "ExecuteTime": {
     "end_time": "2025-01-28T04:01:12.970912Z",
     "start_time": "2025-01-28T04:01:12.937367Z"
    }
   },
   "cell_type": "code",
   "source": [
    "preds = pd.DataFrame(\n",
    "    {\n",
    "        \"y_true\": y_test_from_manual,\n",
    "        \"y_pred\": pipe.predict(x_test_from_manual)\n",
    "    }\n",
    ")\n",
    "preds.groupby(\"y_true\")[\"y_pred\"].mean()"
   ],
   "id": "508d421c36be3927",
   "outputs": [
    {
     "data": {
      "text/plain": [
       "y_true\n",
       "2     2.996040\n",
       "4     4.472802\n",
       "6     5.978106\n",
       "8     7.167060\n",
       "10    8.849861\n",
       "12    9.883551\n",
       "Name: y_pred, dtype: float64"
      ]
     },
     "execution_count": 126,
     "metadata": {},
     "output_type": "execute_result"
    }
   ],
   "execution_count": 126
  },
  {
   "metadata": {
    "ExecuteTime": {
     "end_time": "2025-01-28T04:01:13.420355Z",
     "start_time": "2025-01-28T04:01:13.415950Z"
    }
   },
   "cell_type": "code",
   "source": "preds.corr()",
   "id": "8c42572360359e7c",
   "outputs": [
    {
     "data": {
      "text/plain": [
       "          y_true    y_pred\n",
       "y_true  1.000000  0.822681\n",
       "y_pred  0.822681  1.000000"
      ],
      "text/html": [
       "<div>\n",
       "<style scoped>\n",
       "    .dataframe tbody tr th:only-of-type {\n",
       "        vertical-align: middle;\n",
       "    }\n",
       "\n",
       "    .dataframe tbody tr th {\n",
       "        vertical-align: top;\n",
       "    }\n",
       "\n",
       "    .dataframe thead th {\n",
       "        text-align: right;\n",
       "    }\n",
       "</style>\n",
       "<table border=\"1\" class=\"dataframe\">\n",
       "  <thead>\n",
       "    <tr style=\"text-align: right;\">\n",
       "      <th></th>\n",
       "      <th>y_true</th>\n",
       "      <th>y_pred</th>\n",
       "    </tr>\n",
       "  </thead>\n",
       "  <tbody>\n",
       "    <tr>\n",
       "      <th>y_true</th>\n",
       "      <td>1.000000</td>\n",
       "      <td>0.822681</td>\n",
       "    </tr>\n",
       "    <tr>\n",
       "      <th>y_pred</th>\n",
       "      <td>0.822681</td>\n",
       "      <td>1.000000</td>\n",
       "    </tr>\n",
       "  </tbody>\n",
       "</table>\n",
       "</div>"
      ]
     },
     "execution_count": 127,
     "metadata": {},
     "output_type": "execute_result"
    }
   ],
   "execution_count": 127
  },
  {
   "metadata": {
    "ExecuteTime": {
     "end_time": "2025-01-28T04:01:19.361231Z",
     "start_time": "2025-01-28T04:01:19.358442Z"
    }
   },
   "cell_type": "code",
   "source": "weighted_accuracy(preds[\"y_true\"], preds[\"y_pred\"])",
   "id": "d8dc2d6aa5307949",
   "outputs": [
    {
     "data": {
      "text/plain": [
       "0.7163050534010178"
      ]
     },
     "execution_count": 128,
     "metadata": {},
     "output_type": "execute_result"
    }
   ],
   "execution_count": 128
  },
  {
   "metadata": {},
   "cell_type": "markdown",
   "source": "### Weights evaluation",
   "id": "4299a0210d845ce"
  },
  {
   "metadata": {
    "ExecuteTime": {
     "end_time": "2025-01-28T04:01:20.336410Z",
     "start_time": "2025-01-28T04:01:20.320049Z"
    }
   },
   "cell_type": "code",
   "source": [
    "words = pipe.named_steps[\"tfidf\"].get_feature_names_out()\n",
    "weights = pipe.named_steps[\"lr\"].coef_\n",
    "\n",
    "weights_regr = pd.DataFrame({\"word\": words, \"weight\": weights, \"abs_weight\": abs(weights)})\n",
    "weights_regr = weights_regr.sort_values(\"abs_weight\", ascending=False)\n",
    "weights_regr.head(10)"
   ],
   "id": "f042a9a7e280d0d",
   "outputs": [
    {
     "data": {
      "text/plain": [
       "                         word    weight  abs_weight\n",
       "10941               issues or -0.335485    0.335485\n",
       "4636   comprehensive analysis  0.323863    0.323863\n",
       "4755    conduct comprehensive  0.282622    0.282622\n",
       "8931         fraud prevention  0.246522    0.246522\n",
       "8922          fraud detection  0.241604    0.241604\n",
       "1700         and requirements  0.233201    0.233201\n",
       "8429                  for all  0.232766    0.232766\n",
       "965          analysis results  0.223363    0.223363\n",
       "11965             metrics and  0.219873    0.219873\n",
       "931               analysis of  0.218984    0.218984"
      ],
      "text/html": [
       "<div>\n",
       "<style scoped>\n",
       "    .dataframe tbody tr th:only-of-type {\n",
       "        vertical-align: middle;\n",
       "    }\n",
       "\n",
       "    .dataframe tbody tr th {\n",
       "        vertical-align: top;\n",
       "    }\n",
       "\n",
       "    .dataframe thead th {\n",
       "        text-align: right;\n",
       "    }\n",
       "</style>\n",
       "<table border=\"1\" class=\"dataframe\">\n",
       "  <thead>\n",
       "    <tr style=\"text-align: right;\">\n",
       "      <th></th>\n",
       "      <th>word</th>\n",
       "      <th>weight</th>\n",
       "      <th>abs_weight</th>\n",
       "    </tr>\n",
       "  </thead>\n",
       "  <tbody>\n",
       "    <tr>\n",
       "      <th>10941</th>\n",
       "      <td>issues or</td>\n",
       "      <td>-0.335485</td>\n",
       "      <td>0.335485</td>\n",
       "    </tr>\n",
       "    <tr>\n",
       "      <th>4636</th>\n",
       "      <td>comprehensive analysis</td>\n",
       "      <td>0.323863</td>\n",
       "      <td>0.323863</td>\n",
       "    </tr>\n",
       "    <tr>\n",
       "      <th>4755</th>\n",
       "      <td>conduct comprehensive</td>\n",
       "      <td>0.282622</td>\n",
       "      <td>0.282622</td>\n",
       "    </tr>\n",
       "    <tr>\n",
       "      <th>8931</th>\n",
       "      <td>fraud prevention</td>\n",
       "      <td>0.246522</td>\n",
       "      <td>0.246522</td>\n",
       "    </tr>\n",
       "    <tr>\n",
       "      <th>8922</th>\n",
       "      <td>fraud detection</td>\n",
       "      <td>0.241604</td>\n",
       "      <td>0.241604</td>\n",
       "    </tr>\n",
       "    <tr>\n",
       "      <th>1700</th>\n",
       "      <td>and requirements</td>\n",
       "      <td>0.233201</td>\n",
       "      <td>0.233201</td>\n",
       "    </tr>\n",
       "    <tr>\n",
       "      <th>8429</th>\n",
       "      <td>for all</td>\n",
       "      <td>0.232766</td>\n",
       "      <td>0.232766</td>\n",
       "    </tr>\n",
       "    <tr>\n",
       "      <th>965</th>\n",
       "      <td>analysis results</td>\n",
       "      <td>0.223363</td>\n",
       "      <td>0.223363</td>\n",
       "    </tr>\n",
       "    <tr>\n",
       "      <th>11965</th>\n",
       "      <td>metrics and</td>\n",
       "      <td>0.219873</td>\n",
       "      <td>0.219873</td>\n",
       "    </tr>\n",
       "    <tr>\n",
       "      <th>931</th>\n",
       "      <td>analysis of</td>\n",
       "      <td>0.218984</td>\n",
       "      <td>0.218984</td>\n",
       "    </tr>\n",
       "  </tbody>\n",
       "</table>\n",
       "</div>"
      ]
     },
     "execution_count": 129,
     "metadata": {},
     "output_type": "execute_result"
    }
   ],
   "execution_count": 129
  },
  {
   "metadata": {
    "ExecuteTime": {
     "end_time": "2025-01-28T04:01:41.521421Z",
     "start_time": "2025-01-28T04:01:41.487573Z"
    }
   },
   "cell_type": "code",
   "source": [
    "# save model\n",
    "import joblib\n",
    "\n",
    "joblib.dump(pipe, config.models_dir / \"regression_model.pkl\")"
   ],
   "id": "15a3307cf22b6313",
   "outputs": [
    {
     "data": {
      "text/plain": [
       "['/Users/victor.barbarich/PycharmProjects/personal-projects/mlsd-course-2024/models/regression_model.pkl']"
      ]
     },
     "execution_count": 131,
     "metadata": {},
     "output_type": "execute_result"
    }
   ],
   "execution_count": 131
  },
  {
   "metadata": {
    "ExecuteTime": {
     "end_time": "2025-01-28T04:02:44.972976Z",
     "start_time": "2025-01-28T04:02:44.878312Z"
    }
   },
   "cell_type": "code",
   "source": [
    "# test\n",
    "pipe_loaded = joblib.load(config.models_dir / \"regression_model.pkl\")\n",
    "pipe_loaded.predict(x_test_from_manual) == pipe.predict(x_test_from_manual)"
   ],
   "id": "4f923fc0ee5d2654",
   "outputs": [
    {
     "data": {
      "text/plain": [
       "array([ True,  True,  True,  True,  True,  True,  True,  True,  True,\n",
       "        True,  True,  True,  True,  True,  True,  True,  True,  True,\n",
       "        True,  True,  True,  True,  True,  True,  True,  True,  True,\n",
       "        True,  True,  True,  True,  True,  True,  True,  True,  True,\n",
       "        True,  True,  True,  True,  True,  True,  True,  True,  True,\n",
       "        True,  True,  True,  True,  True,  True,  True,  True,  True,\n",
       "        True,  True,  True,  True,  True,  True,  True,  True,  True,\n",
       "        True,  True,  True,  True,  True,  True,  True,  True,  True,\n",
       "        True,  True,  True,  True,  True,  True,  True,  True,  True,\n",
       "        True,  True,  True,  True,  True,  True,  True,  True,  True,\n",
       "        True,  True,  True,  True,  True,  True,  True,  True,  True,\n",
       "        True,  True,  True,  True,  True,  True,  True,  True,  True,\n",
       "        True,  True,  True,  True,  True,  True,  True,  True,  True,\n",
       "        True,  True,  True,  True,  True,  True,  True,  True,  True,\n",
       "        True,  True,  True,  True,  True,  True,  True,  True,  True,\n",
       "        True,  True,  True,  True,  True,  True,  True,  True,  True,\n",
       "        True,  True,  True,  True,  True,  True,  True,  True,  True,\n",
       "        True,  True,  True,  True,  True,  True,  True,  True,  True,\n",
       "        True,  True,  True,  True,  True,  True,  True,  True,  True,\n",
       "        True,  True,  True,  True,  True,  True,  True,  True,  True,\n",
       "        True,  True,  True,  True,  True,  True,  True,  True,  True,\n",
       "        True,  True,  True,  True,  True,  True,  True,  True,  True,\n",
       "        True,  True,  True,  True,  True,  True,  True,  True,  True,\n",
       "        True,  True,  True,  True,  True,  True,  True,  True,  True,\n",
       "        True,  True,  True,  True,  True,  True,  True,  True,  True,\n",
       "        True,  True,  True,  True,  True,  True,  True,  True,  True,\n",
       "        True,  True,  True,  True,  True,  True,  True,  True,  True,\n",
       "        True,  True,  True,  True,  True,  True,  True,  True,  True,\n",
       "        True,  True,  True,  True,  True,  True,  True,  True,  True,\n",
       "        True,  True,  True,  True,  True,  True,  True,  True,  True,\n",
       "        True,  True,  True,  True,  True,  True,  True,  True,  True,\n",
       "        True,  True,  True,  True,  True,  True,  True,  True,  True,\n",
       "        True,  True,  True,  True,  True,  True,  True,  True,  True,\n",
       "        True,  True,  True,  True,  True,  True,  True,  True,  True,\n",
       "        True,  True,  True,  True,  True,  True,  True,  True,  True,\n",
       "        True,  True,  True,  True,  True,  True,  True,  True,  True,\n",
       "        True,  True,  True,  True,  True,  True,  True,  True,  True,\n",
       "        True,  True,  True,  True,  True,  True,  True,  True,  True,\n",
       "        True,  True,  True,  True,  True,  True,  True,  True,  True,\n",
       "        True,  True,  True,  True,  True,  True,  True,  True,  True,\n",
       "        True,  True,  True,  True,  True,  True,  True,  True,  True,\n",
       "        True,  True,  True,  True,  True,  True,  True,  True,  True,\n",
       "        True,  True,  True,  True,  True,  True,  True,  True,  True,\n",
       "        True,  True,  True,  True,  True,  True,  True,  True,  True,\n",
       "        True,  True,  True,  True,  True,  True,  True,  True,  True,\n",
       "        True,  True,  True,  True,  True,  True,  True,  True,  True,\n",
       "        True,  True,  True,  True,  True,  True,  True,  True,  True,\n",
       "        True,  True,  True,  True,  True,  True,  True,  True,  True,\n",
       "        True,  True,  True,  True,  True,  True,  True,  True,  True,\n",
       "        True,  True,  True,  True,  True,  True,  True,  True,  True,\n",
       "        True,  True,  True])"
      ]
     },
     "execution_count": 133,
     "metadata": {},
     "output_type": "execute_result"
    }
   ],
   "execution_count": 133
  }
 ],
 "metadata": {
  "kernelspec": {
   "display_name": "Python 3",
   "language": "python",
   "name": "python3"
  },
  "language_info": {
   "codemirror_mode": {
    "name": "ipython",
    "version": 2
   },
   "file_extension": ".py",
   "mimetype": "text/x-python",
   "name": "python",
   "nbconvert_exporter": "python",
   "pygments_lexer": "ipython2",
   "version": "2.7.6"
  }
 },
 "nbformat": 4,
 "nbformat_minor": 5
}
