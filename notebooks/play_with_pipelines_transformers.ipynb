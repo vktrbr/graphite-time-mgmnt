{
 "cells": [
  {
   "cell_type": "code",
   "id": "initial_id",
   "metadata": {
    "collapsed": true,
    "ExecuteTime": {
     "end_time": "2025-01-26T22:31:32.826273Z",
     "start_time": "2025-01-26T22:31:32.001260Z"
    }
   },
   "source": [
    "from transformers import pipeline\n",
    "\n",
    "pipe = pipeline(\"zero-shot-classification\", model=\"tasksource/deberta-small-long-nli\")\n"
   ],
   "outputs": [
    {
     "name": "stderr",
     "output_type": "stream",
     "text": [
      "Device set to use mps:0\n"
     ]
    }
   ],
   "execution_count": 2
  },
  {
   "metadata": {
    "ExecuteTime": {
     "end_time": "2025-01-26T22:33:10.087126Z",
     "start_time": "2025-01-26T22:33:10.029210Z"
    }
   },
   "cell_type": "code",
   "source": [
    "text = \"one day I will see the world\"\n",
    "candidate_labels = ['travel', 'cooking', 'dancing']\n",
    "pipe(text, candidate_labels)"
   ],
   "id": "518224827c0834ab",
   "outputs": [
    {
     "data": {
      "text/plain": [
       "{'sequence': 'one day I will see the world',\n",
       " 'labels': ['travel', 'dancing', 'cooking'],\n",
       " 'scores': [0.8819178342819214, 0.09866895526647568, 0.019413234665989876]}"
      ]
     },
     "execution_count": 8,
     "metadata": {},
     "output_type": "execute_result"
    }
   ],
   "execution_count": 8
  },
  {
   "metadata": {
    "ExecuteTime": {
     "end_time": "2025-01-26T23:00:18.667285Z",
     "start_time": "2025-01-26T23:00:18.660662Z"
    }
   },
   "cell_type": "code",
   "source": [
    "import pandas as pd\n",
    "from src.config import BaseConfig\n",
    "\n",
    "df = pd.read_json(BaseConfig().processed_data_dir / \"final_data_to_train.json\")\n",
    "\n",
    "df = df.sample(50)\n",
    "df = df.reset_index(drop=True)"
   ],
   "id": "d8936bf276122270",
   "outputs": [],
   "execution_count": 41
  },
  {
   "metadata": {
    "ExecuteTime": {
     "end_time": "2025-01-26T23:00:18.868032Z",
     "start_time": "2025-01-26T23:00:18.864696Z"
    }
   },
   "cell_type": "code",
   "source": "df.head(1).T",
   "id": "3fd43a09693a2a64",
   "outputs": [
    {
     "data": {
      "text/plain": [
       "                                                                         0\n",
       "assignee_level_order                                                     3\n",
       "jira_key                                                           PRT-265\n",
       "weeks_since_member_join                                                 28\n",
       "time_to_complete_hours                                                   1\n",
       "task_text                **Summary:** Research and analyze MOX as a new..."
      ],
      "text/html": [
       "<div>\n",
       "<style scoped>\n",
       "    .dataframe tbody tr th:only-of-type {\n",
       "        vertical-align: middle;\n",
       "    }\n",
       "\n",
       "    .dataframe tbody tr th {\n",
       "        vertical-align: top;\n",
       "    }\n",
       "\n",
       "    .dataframe thead th {\n",
       "        text-align: right;\n",
       "    }\n",
       "</style>\n",
       "<table border=\"1\" class=\"dataframe\">\n",
       "  <thead>\n",
       "    <tr style=\"text-align: right;\">\n",
       "      <th></th>\n",
       "      <th>0</th>\n",
       "    </tr>\n",
       "  </thead>\n",
       "  <tbody>\n",
       "    <tr>\n",
       "      <th>assignee_level_order</th>\n",
       "      <td>3</td>\n",
       "    </tr>\n",
       "    <tr>\n",
       "      <th>jira_key</th>\n",
       "      <td>PRT-265</td>\n",
       "    </tr>\n",
       "    <tr>\n",
       "      <th>weeks_since_member_join</th>\n",
       "      <td>28</td>\n",
       "    </tr>\n",
       "    <tr>\n",
       "      <th>time_to_complete_hours</th>\n",
       "      <td>1</td>\n",
       "    </tr>\n",
       "    <tr>\n",
       "      <th>task_text</th>\n",
       "      <td>**Summary:** Research and analyze MOX as a new...</td>\n",
       "    </tr>\n",
       "  </tbody>\n",
       "</table>\n",
       "</div>"
      ]
     },
     "execution_count": 42,
     "metadata": {},
     "output_type": "execute_result"
    }
   ],
   "execution_count": 42
  },
  {
   "metadata": {
    "ExecuteTime": {
     "end_time": "2025-01-26T23:00:38.769537Z",
     "start_time": "2025-01-26T23:00:37.897827Z"
    }
   },
   "cell_type": "code",
   "source": [
    "question = \"Is this task easy or hard? \"\n",
    "question += df.loc[0, \"task_text\"]\n",
    "\n",
    "labels = [\"easy\", \"hard\"]\n",
    "\n",
    "result = pipe(question, labels)"
   ],
   "id": "b52ab29e0dea2708",
   "outputs": [],
   "execution_count": 45
  },
  {
   "metadata": {
    "ExecuteTime": {
     "end_time": "2025-01-26T23:01:08.354204Z",
     "start_time": "2025-01-26T23:00:39.540061Z"
    }
   },
   "cell_type": "code",
   "source": "results = df.apply(lambda x: pipe(question + x[\"task_text\"], labels), axis=1)",
   "id": "55d2c00269db30c9",
   "outputs": [],
   "execution_count": 46
  },
  {
   "metadata": {
    "ExecuteTime": {
     "end_time": "2025-01-26T23:03:13.879916Z",
     "start_time": "2025-01-26T23:03:13.875346Z"
    }
   },
   "cell_type": "code",
   "source": [
    "results_predictions = [res[\"labels\"][0] for res in results]\n",
    "confidences = [res[\"scores\"][0] for res in results]"
   ],
   "id": "1c3e4f9ad24653c7",
   "outputs": [],
   "execution_count": 47
  },
  {
   "metadata": {
    "ExecuteTime": {
     "end_time": "2025-01-26T23:03:17.362998Z",
     "start_time": "2025-01-26T23:03:17.358365Z"
    }
   },
   "cell_type": "code",
   "source": "df[\"results_predictions\"] = [labels.index(res) for res in results_predictions]",
   "id": "ac283b7b394a64d5",
   "outputs": [],
   "execution_count": 48
  },
  {
   "metadata": {
    "ExecuteTime": {
     "end_time": "2025-01-26T23:03:48.433782Z",
     "start_time": "2025-01-26T23:03:48.428305Z"
    }
   },
   "cell_type": "code",
   "source": "df[[\"time_to_complete_hours\", \"results_predictions\"]].corr()",
   "id": "16d67001f337b069",
   "outputs": [
    {
     "data": {
      "text/plain": [
       "                        time_to_complete_hours  results_predictions\n",
       "time_to_complete_hours                1.000000             0.023471\n",
       "results_predictions                   0.023471             1.000000"
      ],
      "text/html": [
       "<div>\n",
       "<style scoped>\n",
       "    .dataframe tbody tr th:only-of-type {\n",
       "        vertical-align: middle;\n",
       "    }\n",
       "\n",
       "    .dataframe tbody tr th {\n",
       "        vertical-align: top;\n",
       "    }\n",
       "\n",
       "    .dataframe thead th {\n",
       "        text-align: right;\n",
       "    }\n",
       "</style>\n",
       "<table border=\"1\" class=\"dataframe\">\n",
       "  <thead>\n",
       "    <tr style=\"text-align: right;\">\n",
       "      <th></th>\n",
       "      <th>time_to_complete_hours</th>\n",
       "      <th>results_predictions</th>\n",
       "    </tr>\n",
       "  </thead>\n",
       "  <tbody>\n",
       "    <tr>\n",
       "      <th>time_to_complete_hours</th>\n",
       "      <td>1.000000</td>\n",
       "      <td>0.023471</td>\n",
       "    </tr>\n",
       "    <tr>\n",
       "      <th>results_predictions</th>\n",
       "      <td>0.023471</td>\n",
       "      <td>1.000000</td>\n",
       "    </tr>\n",
       "  </tbody>\n",
       "</table>\n",
       "</div>"
      ]
     },
     "execution_count": 52,
     "metadata": {},
     "output_type": "execute_result"
    }
   ],
   "execution_count": 52
  },
  {
   "metadata": {
    "ExecuteTime": {
     "end_time": "2025-01-26T23:06:10.963409Z",
     "start_time": "2025-01-26T23:06:10.959673Z"
    }
   },
   "cell_type": "code",
   "source": [
    "from src.modeling.metrics import weighted_accuracy\n",
    "\n",
    "weighted_accuracy(df[\"time_to_complete_hours\"], df[\"results_predictions\"].apply(lambda x: {0: 4, 1: 8}.get(x)))"
   ],
   "id": "668bbda54d31fc0f",
   "outputs": [
    {
     "data": {
      "text/plain": [
       "np.float64(-0.2670454545454546)"
      ]
     },
     "execution_count": 59,
     "metadata": {},
     "output_type": "execute_result"
    }
   ],
   "execution_count": 59
  }
 ],
 "metadata": {
  "kernelspec": {
   "display_name": "Python 3",
   "language": "python",
   "name": "python3"
  },
  "language_info": {
   "codemirror_mode": {
    "name": "ipython",
    "version": 2
   },
   "file_extension": ".py",
   "mimetype": "text/x-python",
   "name": "python",
   "nbconvert_exporter": "python",
   "pygments_lexer": "ipython2",
   "version": "2.7.6"
  }
 },
 "nbformat": 4,
 "nbformat_minor": 5
}
