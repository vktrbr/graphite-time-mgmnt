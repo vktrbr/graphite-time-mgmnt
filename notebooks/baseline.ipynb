{
 "cells": [
  {
   "cell_type": "code",
   "id": "initial_id",
   "metadata": {
    "collapsed": true,
    "ExecuteTime": {
     "end_time": "2025-01-28T03:52:29.870930Z",
     "start_time": "2025-01-28T03:52:29.865937Z"
    }
   },
   "source": [
    "from sklearn.feature_extraction.text import TfidfVectorizer\n",
    "from sklearn.pipeline import Pipeline\n",
    "from sklearn.linear_model import LinearRegression, LogisticRegression\n",
    "from sklearn.model_selection import StratifiedKFold\n",
    "\n",
    "import pandas as pd\n",
    "import numpy as np\n",
    "from src.config import BaseConfig\n",
    "from src.modeling.metrics import weighted_accuracy\n",
    "\n",
    "config = BaseConfig()"
   ],
   "outputs": [],
   "execution_count": 73
  },
  {
   "metadata": {
    "ExecuteTime": {
     "end_time": "2025-01-28T03:52:29.892048Z",
     "start_time": "2025-01-28T03:52:29.881943Z"
    }
   },
   "cell_type": "code",
   "source": [
    "path = config.processed_data_dir / \"final_data_to_train.json\"\n",
    "test_keys_path = config.processed_data_dir / \"test_tasks.csv\"\n",
    "df = pd.read_json(path)\n",
    "test_keys = pd.read_csv(test_keys_path)\n",
    "\n",
    "df.head(0)"
   ],
   "id": "f312f07b03576344",
   "outputs": [
    {
     "data": {
      "text/plain": [
       "Empty DataFrame\n",
       "Columns: [assignee_level_order, jira_key, weeks_since_member_join, time_to_complete_hours, task_text]\n",
       "Index: []"
      ],
      "text/html": [
       "<div>\n",
       "<style scoped>\n",
       "    .dataframe tbody tr th:only-of-type {\n",
       "        vertical-align: middle;\n",
       "    }\n",
       "\n",
       "    .dataframe tbody tr th {\n",
       "        vertical-align: top;\n",
       "    }\n",
       "\n",
       "    .dataframe thead th {\n",
       "        text-align: right;\n",
       "    }\n",
       "</style>\n",
       "<table border=\"1\" class=\"dataframe\">\n",
       "  <thead>\n",
       "    <tr style=\"text-align: right;\">\n",
       "      <th></th>\n",
       "      <th>assignee_level_order</th>\n",
       "      <th>jira_key</th>\n",
       "      <th>weeks_since_member_join</th>\n",
       "      <th>time_to_complete_hours</th>\n",
       "      <th>task_text</th>\n",
       "    </tr>\n",
       "  </thead>\n",
       "  <tbody>\n",
       "  </tbody>\n",
       "</table>\n",
       "</div>"
      ]
     },
     "execution_count": 74,
     "metadata": {},
     "output_type": "execute_result"
    }
   ],
   "execution_count": 74
  },
  {
   "metadata": {
    "ExecuteTime": {
     "end_time": "2025-01-28T03:52:29.921099Z",
     "start_time": "2025-01-28T03:52:29.918599Z"
    }
   },
   "cell_type": "code",
   "source": "test_keys.head(0)",
   "id": "976276a4285ca6e9",
   "outputs": [
    {
     "data": {
      "text/plain": [
       "Empty DataFrame\n",
       "Columns: [jira_key]\n",
       "Index: []"
      ],
      "text/html": [
       "<div>\n",
       "<style scoped>\n",
       "    .dataframe tbody tr th:only-of-type {\n",
       "        vertical-align: middle;\n",
       "    }\n",
       "\n",
       "    .dataframe tbody tr th {\n",
       "        vertical-align: top;\n",
       "    }\n",
       "\n",
       "    .dataframe thead th {\n",
       "        text-align: right;\n",
       "    }\n",
       "</style>\n",
       "<table border=\"1\" class=\"dataframe\">\n",
       "  <thead>\n",
       "    <tr style=\"text-align: right;\">\n",
       "      <th></th>\n",
       "      <th>jira_key</th>\n",
       "    </tr>\n",
       "  </thead>\n",
       "  <tbody>\n",
       "  </tbody>\n",
       "</table>\n",
       "</div>"
      ]
     },
     "execution_count": 75,
     "metadata": {},
     "output_type": "execute_result"
    }
   ],
   "execution_count": 75
  },
  {
   "metadata": {},
   "cell_type": "markdown",
   "source": "## Regression type of task",
   "id": "89b5010e61df7315"
  },
  {
   "metadata": {
    "ExecuteTime": {
     "end_time": "2025-01-28T03:52:29.945094Z",
     "start_time": "2025-01-28T03:52:29.941149Z"
    }
   },
   "cell_type": "code",
   "source": [
    "df[\"time_to_complete_hours_transformed\"] = df[\"time_to_complete_hours\"].clip(2, 12)  # clip between 2 and 24 hours\n",
    "df[\"time_to_complete_hours_transformed\"] = df[\"time_to_complete_hours_transformed\"] // 2 * 2  # round to the nearest even number\n",
    "\n",
    "y = df[\"time_to_complete_hours_transformed\"]\n",
    "x = df[\"task_text\"]\n",
    "\n",
    "y = y[~df.jira_key.isin(test_keys.jira_key)]\n",
    "x = x[~df.jira_key.isin(test_keys.jira_key)]\n",
    "\n",
    "y_test_from_manual = y[~df.jira_key.isin(test_keys.jira_key)]\n",
    "x_test_from_manual = x[~df.jira_key.isin(test_keys.jira_key)]\n",
    "\n",
    "y.value_counts().sort_index()"
   ],
   "id": "2b6293024b43a8fd",
   "outputs": [
    {
     "data": {
      "text/plain": [
       "time_to_complete_hours_transformed\n",
       "2     179\n",
       "4      98\n",
       "6      23\n",
       "8      77\n",
       "10      3\n",
       "12     73\n",
       "Name: count, dtype: int64"
      ]
     },
     "execution_count": 76,
     "metadata": {},
     "output_type": "execute_result"
    }
   ],
   "execution_count": 76
  },
  {
   "metadata": {
    "ExecuteTime": {
     "end_time": "2025-01-28T03:52:30.409479Z",
     "start_time": "2025-01-28T03:52:30.000010Z"
    }
   },
   "cell_type": "code",
   "source": [
    "pipe = Pipeline([\n",
    "    (\"tfidf\", TfidfVectorizer(ngram_range=(1, 2))),  # ngram_range=(1, 2) means that we will use unigrams and big\n",
    "    (\"lr\", LinearRegression())\n",
    "])\n",
    "\n",
    "metrics = {\n",
    "    \"w_acc_test_transformed\": [],\n",
    "    \"w_acc_train_transformed\": [],\n",
    "    \"w_acc_test\": [],\n",
    "    \"w_acc_train\": []\n",
    "}\n",
    "skf = StratifiedKFold(n_splits=3, random_state=42, shuffle=True)\n",
    "\n",
    "for train_index, test_index in skf.split(x, y):\n",
    "    x_train, x_test = x.iloc[train_index], x.iloc[test_index]\n",
    "    y_train, y_test = y.iloc[train_index], y.iloc[test_index]\n",
    "\n",
    "    pipe.fit(x_train, y_train)\n",
    "\n",
    "    # evaluation\n",
    "    keys = [\"w_acc_test_transformed\", \"w_acc_train_transformed\", \"w_acc_test\", \"w_acc_train\"]\n",
    "    xs = [x_test, x_train, x_test, x_train]\n",
    "    ys = [y_test, y_train, df.loc[test_index, \"time_to_complete_hours\"], df.loc[train_index, \"time_to_complete_hours\"]]\n",
    "    for key, x_, y_ in zip(keys, xs, ys):\n",
    "        y_pred = pipe.predict(x_)\n",
    "        metrics[key].append(weighted_accuracy(y_, y_pred))\n",
    "\n",
    "metrics = {\n",
    "    k: {\n",
    "        \"mean\": np.mean(v),\n",
    "        \"std\": np.std(v)\n",
    "    }\n",
    "    for k, v in metrics.items()\n",
    "}\n",
    "\n",
    "pd.DataFrame(metrics)"
   ],
   "id": "741145b26e727136",
   "outputs": [
    {
     "data": {
      "text/plain": [
       "      w_acc_test_transformed  w_acc_train_transformed  w_acc_test  w_acc_train\n",
       "mean                0.185708                 0.999375   -0.164114    -0.310316\n",
       "std                 0.011371                 0.000879    0.061957     0.036505"
      ],
      "text/html": [
       "<div>\n",
       "<style scoped>\n",
       "    .dataframe tbody tr th:only-of-type {\n",
       "        vertical-align: middle;\n",
       "    }\n",
       "\n",
       "    .dataframe tbody tr th {\n",
       "        vertical-align: top;\n",
       "    }\n",
       "\n",
       "    .dataframe thead th {\n",
       "        text-align: right;\n",
       "    }\n",
       "</style>\n",
       "<table border=\"1\" class=\"dataframe\">\n",
       "  <thead>\n",
       "    <tr style=\"text-align: right;\">\n",
       "      <th></th>\n",
       "      <th>w_acc_test_transformed</th>\n",
       "      <th>w_acc_train_transformed</th>\n",
       "      <th>w_acc_test</th>\n",
       "      <th>w_acc_train</th>\n",
       "    </tr>\n",
       "  </thead>\n",
       "  <tbody>\n",
       "    <tr>\n",
       "      <th>mean</th>\n",
       "      <td>0.185708</td>\n",
       "      <td>0.999375</td>\n",
       "      <td>-0.164114</td>\n",
       "      <td>-0.310316</td>\n",
       "    </tr>\n",
       "    <tr>\n",
       "      <th>std</th>\n",
       "      <td>0.011371</td>\n",
       "      <td>0.000879</td>\n",
       "      <td>0.061957</td>\n",
       "      <td>0.036505</td>\n",
       "    </tr>\n",
       "  </tbody>\n",
       "</table>\n",
       "</div>"
      ]
     },
     "execution_count": 77,
     "metadata": {},
     "output_type": "execute_result"
    }
   ],
   "execution_count": 77
  },
  {
   "metadata": {
    "ExecuteTime": {
     "end_time": "2025-01-28T03:52:30.485155Z",
     "start_time": "2025-01-28T03:52:30.435569Z"
    }
   },
   "cell_type": "code",
   "source": [
    "preds = pd.DataFrame(\n",
    "    {\n",
    "        \"y_true\": y_test_from_manual,\n",
    "        \"y_pred\": pipe.predict(x_test_from_manual)\n",
    "    }\n",
    ")\n",
    "preds.groupby(\"y_true\")[\"y_pred\"].mean()"
   ],
   "id": "508d421c36be3927",
   "outputs": [
    {
     "data": {
      "text/plain": [
       "y_true\n",
       "2     2.938267\n",
       "4     4.448426\n",
       "6     5.903760\n",
       "8     7.247483\n",
       "10    9.006690\n",
       "12    9.958204\n",
       "Name: y_pred, dtype: float64"
      ]
     },
     "execution_count": 78,
     "metadata": {},
     "output_type": "execute_result"
    }
   ],
   "execution_count": 78
  },
  {
   "metadata": {
    "ExecuteTime": {
     "end_time": "2025-01-28T03:52:30.521036Z",
     "start_time": "2025-01-28T03:52:30.517289Z"
    }
   },
   "cell_type": "code",
   "source": "preds.corr()",
   "id": "8c42572360359e7c",
   "outputs": [
    {
     "data": {
      "text/plain": [
       "          y_true    y_pred\n",
       "y_true  1.000000  0.825207\n",
       "y_pred  0.825207  1.000000"
      ],
      "text/html": [
       "<div>\n",
       "<style scoped>\n",
       "    .dataframe tbody tr th:only-of-type {\n",
       "        vertical-align: middle;\n",
       "    }\n",
       "\n",
       "    .dataframe tbody tr th {\n",
       "        vertical-align: top;\n",
       "    }\n",
       "\n",
       "    .dataframe thead th {\n",
       "        text-align: right;\n",
       "    }\n",
       "</style>\n",
       "<table border=\"1\" class=\"dataframe\">\n",
       "  <thead>\n",
       "    <tr style=\"text-align: right;\">\n",
       "      <th></th>\n",
       "      <th>y_true</th>\n",
       "      <th>y_pred</th>\n",
       "    </tr>\n",
       "  </thead>\n",
       "  <tbody>\n",
       "    <tr>\n",
       "      <th>y_true</th>\n",
       "      <td>1.000000</td>\n",
       "      <td>0.825207</td>\n",
       "    </tr>\n",
       "    <tr>\n",
       "      <th>y_pred</th>\n",
       "      <td>0.825207</td>\n",
       "      <td>1.000000</td>\n",
       "    </tr>\n",
       "  </tbody>\n",
       "</table>\n",
       "</div>"
      ]
     },
     "execution_count": 79,
     "metadata": {},
     "output_type": "execute_result"
    }
   ],
   "execution_count": 79
  },
  {
   "metadata": {
    "ExecuteTime": {
     "end_time": "2025-01-28T03:52:30.571355Z",
     "start_time": "2025-01-28T03:52:30.568305Z"
    }
   },
   "cell_type": "code",
   "source": "weighted_accuracy(preds[\"y_true\"], preds[\"y_pred\"])",
   "id": "d8dc2d6aa5307949",
   "outputs": [
    {
     "data": {
      "text/plain": [
       "np.float64(0.7272005731569047)"
      ]
     },
     "execution_count": 80,
     "metadata": {},
     "output_type": "execute_result"
    }
   ],
   "execution_count": 80
  },
  {
   "metadata": {},
   "cell_type": "markdown",
   "source": "### Weights evaluation",
   "id": "4299a0210d845ce"
  },
  {
   "metadata": {
    "ExecuteTime": {
     "end_time": "2025-01-28T03:52:30.736125Z",
     "start_time": "2025-01-28T03:52:30.721386Z"
    }
   },
   "cell_type": "code",
   "source": [
    "words = pipe.named_steps[\"tfidf\"].get_feature_names_out()\n",
    "weights = pipe.named_steps[\"lr\"].coef_\n",
    "\n",
    "weights_regr = pd.DataFrame({\"word\": words, \"weight\": weights, \"abs_weight\": abs(weights)})\n",
    "weights_regr = weights_regr.sort_values(\"abs_weight\", ascending=False)\n",
    "weights_regr.head(10)\n"
   ],
   "id": "f042a9a7e280d0d",
   "outputs": [
    {
     "data": {
      "text/plain": [
       "                  word    weight  abs_weight\n",
       "9964             fraud  5.474864    5.474864\n",
       "2187               api  5.326665    5.326665\n",
       "13714            model  4.769572    4.769572\n",
       "15826            pd002  4.294159    4.294159\n",
       "6258               dag  4.032556    4.032556\n",
       "16697             prev  3.984014    3.984014\n",
       "1413               and  3.931909    3.931909\n",
       "3887       calibration  3.914738    3.914738\n",
       "13065          mapping  3.847538    3.847538\n",
       "18027  rejection rules -3.721543    3.721543"
      ],
      "text/html": [
       "<div>\n",
       "<style scoped>\n",
       "    .dataframe tbody tr th:only-of-type {\n",
       "        vertical-align: middle;\n",
       "    }\n",
       "\n",
       "    .dataframe tbody tr th {\n",
       "        vertical-align: top;\n",
       "    }\n",
       "\n",
       "    .dataframe thead th {\n",
       "        text-align: right;\n",
       "    }\n",
       "</style>\n",
       "<table border=\"1\" class=\"dataframe\">\n",
       "  <thead>\n",
       "    <tr style=\"text-align: right;\">\n",
       "      <th></th>\n",
       "      <th>word</th>\n",
       "      <th>weight</th>\n",
       "      <th>abs_weight</th>\n",
       "    </tr>\n",
       "  </thead>\n",
       "  <tbody>\n",
       "    <tr>\n",
       "      <th>9964</th>\n",
       "      <td>fraud</td>\n",
       "      <td>5.474864</td>\n",
       "      <td>5.474864</td>\n",
       "    </tr>\n",
       "    <tr>\n",
       "      <th>2187</th>\n",
       "      <td>api</td>\n",
       "      <td>5.326665</td>\n",
       "      <td>5.326665</td>\n",
       "    </tr>\n",
       "    <tr>\n",
       "      <th>13714</th>\n",
       "      <td>model</td>\n",
       "      <td>4.769572</td>\n",
       "      <td>4.769572</td>\n",
       "    </tr>\n",
       "    <tr>\n",
       "      <th>15826</th>\n",
       "      <td>pd002</td>\n",
       "      <td>4.294159</td>\n",
       "      <td>4.294159</td>\n",
       "    </tr>\n",
       "    <tr>\n",
       "      <th>6258</th>\n",
       "      <td>dag</td>\n",
       "      <td>4.032556</td>\n",
       "      <td>4.032556</td>\n",
       "    </tr>\n",
       "    <tr>\n",
       "      <th>16697</th>\n",
       "      <td>prev</td>\n",
       "      <td>3.984014</td>\n",
       "      <td>3.984014</td>\n",
       "    </tr>\n",
       "    <tr>\n",
       "      <th>1413</th>\n",
       "      <td>and</td>\n",
       "      <td>3.931909</td>\n",
       "      <td>3.931909</td>\n",
       "    </tr>\n",
       "    <tr>\n",
       "      <th>3887</th>\n",
       "      <td>calibration</td>\n",
       "      <td>3.914738</td>\n",
       "      <td>3.914738</td>\n",
       "    </tr>\n",
       "    <tr>\n",
       "      <th>13065</th>\n",
       "      <td>mapping</td>\n",
       "      <td>3.847538</td>\n",
       "      <td>3.847538</td>\n",
       "    </tr>\n",
       "    <tr>\n",
       "      <th>18027</th>\n",
       "      <td>rejection rules</td>\n",
       "      <td>-3.721543</td>\n",
       "      <td>3.721543</td>\n",
       "    </tr>\n",
       "  </tbody>\n",
       "</table>\n",
       "</div>"
      ]
     },
     "execution_count": 81,
     "metadata": {},
     "output_type": "execute_result"
    }
   ],
   "execution_count": 81
  },
  {
   "metadata": {},
   "cell_type": "markdown",
   "source": [
    "# Результаты:\n",
    "\n",
    "Тестовые таски – это таски, которые мы в ходе эксперимента действительно аккуратно оценивали и трекали время.\n",
    "На таких хороших тасках мы видим, что мы превзошли человеческую оценку сразу с бейзлайном 73% vs 33%\n",
    "\n"
   ],
   "id": "7b8a150198057a21"
  },
  {
   "metadata": {},
   "cell_type": "markdown",
   "source": "## Classification type of task",
   "id": "8357c405a87bff20"
  },
  {
   "metadata": {
    "ExecuteTime": {
     "end_time": "2025-01-28T03:52:32.582338Z",
     "start_time": "2025-01-28T03:52:30.763408Z"
    }
   },
   "cell_type": "code",
   "source": [
    "from sklearn.metrics import accuracy_score, classification_report\n",
    "\n",
    "f_binner = lambda b: {b >= 2: 0, b >= 4: 1, b >= 8: 2, b > 8: 3}.get(True)\n",
    "f_unbinner = lambda b: {0: 2, 1: 4, 2: 8, 3: 12}.get(b)\n",
    "\n",
    "df[\"bin_ttch\"] = df[\"time_to_complete_hours_transformed\"].apply(f_binner)\n",
    "y = df[\"bin_ttch\"]\n",
    "\n",
    "x = df[\"task_text\"]\n",
    "skf = StratifiedKFold(n_splits=3, random_state=42, shuffle=True)\n",
    "\n",
    "metrics = {\n",
    "    \"w_acc_test\": [],\n",
    "    \"w_acc_train\": [],\n",
    "    \"w_acc_test_transformed\": [],\n",
    "    \"w_acc_train_transformed\": [],\n",
    "\n",
    "    \"accuracy_test\": [],\n",
    "    \"accuracy_train\": [],\n",
    "}\n",
    "\n",
    "for train_index, test_index in skf.split(x, y):\n",
    "    pipe = Pipeline([\n",
    "        (\"tfidf\", TfidfVectorizer(ngram_range=(1, 3))),\n",
    "        (\"lr\", LogisticRegression())\n",
    "    ])\n",
    "\n",
    "    x_train, x_test = x[train_index], x[test_index]\n",
    "    y_train, y_test = y[train_index], y[test_index]\n",
    "\n",
    "    pipe.fit(x_train, y_train)\n",
    "\n",
    "    # evaluation\n",
    "    keys = [\"w_acc_test\", \"w_acc_train\", \"w_acc_test_transformed\", \"w_acc_train_transformed\"]\n",
    "    xs = [x_test, x_train, x_test, x_train]\n",
    "    ys = [\n",
    "        y_test, y_train,\n",
    "        df.loc[test_index, \"time_to_complete_hours_transformed\"],\n",
    "        df.loc[train_index, \"time_to_complete_hours_transformed\"]\n",
    "    ]\n",
    "    for key, x_, y_ in zip(keys, xs, ys):\n",
    "        y_pred = pipe.predict(x_)\n",
    "        y_pred = list(map(f_unbinner, y_pred))\n",
    "\n",
    "        if \"transformed\" not in key:\n",
    "            y_ = y_.apply(f_unbinner)\n",
    "\n",
    "        metrics[key].append(weighted_accuracy(y_, y_pred))\n",
    "\n",
    "    keys = [\"accuracy_test\", \"accuracy_train\"]\n",
    "    xs = [x_test, x_train]\n",
    "    ys = [y_test, y_train]\n",
    "\n",
    "    for key, x_, y_ in zip(keys, xs, ys):\n",
    "        y_pred = pipe.predict(x_)\n",
    "        metrics[key].append(accuracy_score(y_, y_pred))\n",
    "        print(key.capitalize(), '\\n', classification_report(y_, y_pred, zero_division=0))\n",
    "\n",
    "metrics = {\n",
    "    k: {\n",
    "        \"mean\": np.mean(v),\n",
    "        \"std\": np.std(v)\n",
    "    }\n",
    "    for k, v in metrics.items()\n",
    "}\n",
    "\n",
    "pd.DataFrame(metrics)"
   ],
   "id": "8cabb5f1d64fd97c",
   "outputs": [
    {
     "name": "stdout",
     "output_type": "stream",
     "text": [
      "Accuracy_test \n",
      "               precision    recall  f1-score   support\n",
      "\n",
      "           0       0.43      0.97      0.59        67\n",
      "           1       0.10      0.02      0.04        43\n",
      "           2       1.00      0.04      0.07        27\n",
      "           3       0.00      0.00      0.00        26\n",
      "\n",
      "    accuracy                           0.41       163\n",
      "   macro avg       0.38      0.26      0.18       163\n",
      "weighted avg       0.37      0.41      0.27       163\n",
      "\n",
      "Accuracy_train \n",
      "               precision    recall  f1-score   support\n",
      "\n",
      "           0       0.79      1.00      0.88       133\n",
      "           1       1.00      1.00      1.00        86\n",
      "           2       1.00      0.75      0.85        55\n",
      "           3       1.00      0.58      0.73        50\n",
      "\n",
      "    accuracy                           0.89       324\n",
      "   macro avg       0.95      0.83      0.87       324\n",
      "weighted avg       0.91      0.89      0.89       324\n",
      "\n",
      "Accuracy_test \n",
      "               precision    recall  f1-score   support\n",
      "\n",
      "           0       0.41      0.97      0.58        67\n",
      "           1       0.67      0.05      0.09        43\n",
      "           2       0.50      0.04      0.07        27\n",
      "           3       0.00      0.00      0.00        25\n",
      "\n",
      "    accuracy                           0.42       162\n",
      "   macro avg       0.40      0.26      0.18       162\n",
      "weighted avg       0.43      0.42      0.27       162\n",
      "\n",
      "Accuracy_train \n",
      "               precision    recall  f1-score   support\n",
      "\n",
      "           0       0.77      1.00      0.87       133\n",
      "           1       1.00      0.99      0.99        86\n",
      "           2       1.00      0.73      0.84        55\n",
      "           3       1.00      0.55      0.71        51\n",
      "\n",
      "    accuracy                           0.88       325\n",
      "   macro avg       0.94      0.82      0.85       325\n",
      "weighted avg       0.91      0.88      0.87       325\n",
      "\n",
      "Accuracy_test \n",
      "               precision    recall  f1-score   support\n",
      "\n",
      "           0       0.41      0.97      0.58        66\n",
      "           1       0.50      0.07      0.12        43\n",
      "           2       0.00      0.00      0.00        28\n",
      "           3       0.00      0.00      0.00        25\n",
      "\n",
      "    accuracy                           0.41       162\n",
      "   macro avg       0.23      0.26      0.17       162\n",
      "weighted avg       0.30      0.41      0.27       162\n",
      "\n",
      "Accuracy_train \n",
      "               precision    recall  f1-score   support\n",
      "\n",
      "           0       0.76      1.00      0.86       134\n",
      "           1       0.99      0.99      0.99        86\n",
      "           2       1.00      0.65      0.79        54\n",
      "           3       1.00      0.55      0.71        51\n",
      "\n",
      "    accuracy                           0.87       325\n",
      "   macro avg       0.94      0.80      0.84       325\n",
      "weighted avg       0.90      0.87      0.86       325\n",
      "\n"
     ]
    },
    {
     "data": {
      "text/plain": [
       "      w_acc_test  w_acc_train  w_acc_test_transformed  \\\n",
       "mean   -0.190081     0.613564               -0.202928   \n",
       "std     0.014213     0.024137                0.013411   \n",
       "\n",
       "      w_acc_train_transformed  accuracy_test  accuracy_train  \n",
       "mean                 0.586829       0.414792        0.879889  \n",
       "std                  0.026749       0.003658        0.009914  "
      ],
      "text/html": [
       "<div>\n",
       "<style scoped>\n",
       "    .dataframe tbody tr th:only-of-type {\n",
       "        vertical-align: middle;\n",
       "    }\n",
       "\n",
       "    .dataframe tbody tr th {\n",
       "        vertical-align: top;\n",
       "    }\n",
       "\n",
       "    .dataframe thead th {\n",
       "        text-align: right;\n",
       "    }\n",
       "</style>\n",
       "<table border=\"1\" class=\"dataframe\">\n",
       "  <thead>\n",
       "    <tr style=\"text-align: right;\">\n",
       "      <th></th>\n",
       "      <th>w_acc_test</th>\n",
       "      <th>w_acc_train</th>\n",
       "      <th>w_acc_test_transformed</th>\n",
       "      <th>w_acc_train_transformed</th>\n",
       "      <th>accuracy_test</th>\n",
       "      <th>accuracy_train</th>\n",
       "    </tr>\n",
       "  </thead>\n",
       "  <tbody>\n",
       "    <tr>\n",
       "      <th>mean</th>\n",
       "      <td>-0.190081</td>\n",
       "      <td>0.613564</td>\n",
       "      <td>-0.202928</td>\n",
       "      <td>0.586829</td>\n",
       "      <td>0.414792</td>\n",
       "      <td>0.879889</td>\n",
       "    </tr>\n",
       "    <tr>\n",
       "      <th>std</th>\n",
       "      <td>0.014213</td>\n",
       "      <td>0.024137</td>\n",
       "      <td>0.013411</td>\n",
       "      <td>0.026749</td>\n",
       "      <td>0.003658</td>\n",
       "      <td>0.009914</td>\n",
       "    </tr>\n",
       "  </tbody>\n",
       "</table>\n",
       "</div>"
      ]
     },
     "execution_count": 82,
     "metadata": {},
     "output_type": "execute_result"
    }
   ],
   "execution_count": 82
  },
  {
   "metadata": {
    "ExecuteTime": {
     "end_time": "2025-01-28T03:52:32.685553Z",
     "start_time": "2025-01-28T03:52:32.611527Z"
    }
   },
   "cell_type": "code",
   "source": [
    "preds = pd.DataFrame(\n",
    "    {\n",
    "        \"y_true\": y_test_from_manual,\n",
    "        \"y_pred\": map(f_unbinner, pipe.predict(x_test_from_manual)),\n",
    "    }\n",
    ")\n",
    "preds.groupby(\"y_true\")[\"y_pred\"].mean()"
   ],
   "id": "1ac340e8785b1c04",
   "outputs": [
    {
     "data": {
      "text/plain": [
       "y_true\n",
       "2     2.022346\n",
       "4     3.306122\n",
       "6     3.478261\n",
       "8     4.571429\n",
       "10    5.333333\n",
       "12    5.753425\n",
       "Name: y_pred, dtype: float64"
      ]
     },
     "execution_count": 83,
     "metadata": {},
     "output_type": "execute_result"
    }
   ],
   "execution_count": 83
  },
  {
   "metadata": {
    "ExecuteTime": {
     "end_time": "2025-01-28T03:52:32.715532Z",
     "start_time": "2025-01-28T03:52:32.712718Z"
    }
   },
   "cell_type": "code",
   "source": "preds.corr()",
   "id": "9580baf0dcffeb",
   "outputs": [
    {
     "data": {
      "text/plain": [
       "          y_true    y_pred\n",
       "y_true  1.000000  0.496503\n",
       "y_pred  0.496503  1.000000"
      ],
      "text/html": [
       "<div>\n",
       "<style scoped>\n",
       "    .dataframe tbody tr th:only-of-type {\n",
       "        vertical-align: middle;\n",
       "    }\n",
       "\n",
       "    .dataframe tbody tr th {\n",
       "        vertical-align: top;\n",
       "    }\n",
       "\n",
       "    .dataframe thead th {\n",
       "        text-align: right;\n",
       "    }\n",
       "</style>\n",
       "<table border=\"1\" class=\"dataframe\">\n",
       "  <thead>\n",
       "    <tr style=\"text-align: right;\">\n",
       "      <th></th>\n",
       "      <th>y_true</th>\n",
       "      <th>y_pred</th>\n",
       "    </tr>\n",
       "  </thead>\n",
       "  <tbody>\n",
       "    <tr>\n",
       "      <th>y_true</th>\n",
       "      <td>1.000000</td>\n",
       "      <td>0.496503</td>\n",
       "    </tr>\n",
       "    <tr>\n",
       "      <th>y_pred</th>\n",
       "      <td>0.496503</td>\n",
       "      <td>1.000000</td>\n",
       "    </tr>\n",
       "  </tbody>\n",
       "</table>\n",
       "</div>"
      ]
     },
     "execution_count": 84,
     "metadata": {},
     "output_type": "execute_result"
    }
   ],
   "execution_count": 84
  },
  {
   "metadata": {},
   "cell_type": "markdown",
   "source": "### Weights evaluation",
   "id": "5b87b4fd1253ce0f"
  },
  {
   "metadata": {
    "ExecuteTime": {
     "end_time": "2025-01-28T03:52:32.782696Z",
     "start_time": "2025-01-28T03:52:32.756994Z"
    }
   },
   "cell_type": "code",
   "source": [
    "words = pipe.named_steps[\"tfidf\"].get_feature_names_out()\n",
    "weights = pipe.named_steps[\"lr\"].coef_[3]\n",
    "\n",
    "weights_clf = pd.DataFrame({\"word\": words, \"weight\": weights, \"abs_weight\": abs(weights)})\n",
    "weights_clf = weights_clf.sort_values(\"abs_weight\", ascending=False)\n",
    "weights_clf.head(10)"
   ],
   "id": "b95ebbe2187efc77",
   "outputs": [
    {
     "data": {
      "text/plain": [
       "             word    weight  abs_weight\n",
       "36508       model  0.461275    0.461275\n",
       "50659        risk -0.429035    0.429035\n",
       "36887  monitoring  0.391628    0.391628\n",
       "42565       pd002  0.374959    0.374959\n",
       "33692         kyc  0.374289    0.374289\n",
       "16373        curp  0.367559    0.367559\n",
       "42626       pd003  0.359004    0.359004\n",
       "16912         dag  0.347073    0.347073\n",
       "51981     scoring  0.346930    0.346930\n",
       "56811      tariff  0.288576    0.288576"
      ],
      "text/html": [
       "<div>\n",
       "<style scoped>\n",
       "    .dataframe tbody tr th:only-of-type {\n",
       "        vertical-align: middle;\n",
       "    }\n",
       "\n",
       "    .dataframe tbody tr th {\n",
       "        vertical-align: top;\n",
       "    }\n",
       "\n",
       "    .dataframe thead th {\n",
       "        text-align: right;\n",
       "    }\n",
       "</style>\n",
       "<table border=\"1\" class=\"dataframe\">\n",
       "  <thead>\n",
       "    <tr style=\"text-align: right;\">\n",
       "      <th></th>\n",
       "      <th>word</th>\n",
       "      <th>weight</th>\n",
       "      <th>abs_weight</th>\n",
       "    </tr>\n",
       "  </thead>\n",
       "  <tbody>\n",
       "    <tr>\n",
       "      <th>36508</th>\n",
       "      <td>model</td>\n",
       "      <td>0.461275</td>\n",
       "      <td>0.461275</td>\n",
       "    </tr>\n",
       "    <tr>\n",
       "      <th>50659</th>\n",
       "      <td>risk</td>\n",
       "      <td>-0.429035</td>\n",
       "      <td>0.429035</td>\n",
       "    </tr>\n",
       "    <tr>\n",
       "      <th>36887</th>\n",
       "      <td>monitoring</td>\n",
       "      <td>0.391628</td>\n",
       "      <td>0.391628</td>\n",
       "    </tr>\n",
       "    <tr>\n",
       "      <th>42565</th>\n",
       "      <td>pd002</td>\n",
       "      <td>0.374959</td>\n",
       "      <td>0.374959</td>\n",
       "    </tr>\n",
       "    <tr>\n",
       "      <th>33692</th>\n",
       "      <td>kyc</td>\n",
       "      <td>0.374289</td>\n",
       "      <td>0.374289</td>\n",
       "    </tr>\n",
       "    <tr>\n",
       "      <th>16373</th>\n",
       "      <td>curp</td>\n",
       "      <td>0.367559</td>\n",
       "      <td>0.367559</td>\n",
       "    </tr>\n",
       "    <tr>\n",
       "      <th>42626</th>\n",
       "      <td>pd003</td>\n",
       "      <td>0.359004</td>\n",
       "      <td>0.359004</td>\n",
       "    </tr>\n",
       "    <tr>\n",
       "      <th>16912</th>\n",
       "      <td>dag</td>\n",
       "      <td>0.347073</td>\n",
       "      <td>0.347073</td>\n",
       "    </tr>\n",
       "    <tr>\n",
       "      <th>51981</th>\n",
       "      <td>scoring</td>\n",
       "      <td>0.346930</td>\n",
       "      <td>0.346930</td>\n",
       "    </tr>\n",
       "    <tr>\n",
       "      <th>56811</th>\n",
       "      <td>tariff</td>\n",
       "      <td>0.288576</td>\n",
       "      <td>0.288576</td>\n",
       "    </tr>\n",
       "  </tbody>\n",
       "</table>\n",
       "</div>"
      ]
     },
     "execution_count": 85,
     "metadata": {},
     "output_type": "execute_result"
    }
   ],
   "execution_count": 85
  },
  {
   "metadata": {},
   "cell_type": "markdown",
   "source": "# Сравнение весов для регрессии и классификации",
   "id": "db3494908a0abc99"
  },
  {
   "metadata": {
    "ExecuteTime": {
     "end_time": "2025-01-28T03:52:32.832969Z",
     "start_time": "2025-01-28T03:52:32.809867Z"
    }
   },
   "cell_type": "code",
   "source": [
    "import plotly.express as px\n",
    "\n",
    "weights_regr[\"type\"] = \"regr\"\n",
    "weights_clf[\"type\"] = \"clf\"\n",
    "\n",
    "# normalize weights -1:1\n",
    "weights_regr[\"weight\"] = weights_regr[\"weight\"] / weights_regr[\"abs_weight\"].max()\n",
    "weights_clf[\"weight\"] = weights_clf[\"weight\"] / weights_clf[\"abs_weight\"].max()\n",
    "\n",
    "n_top_words = 7\n",
    "top_words = set(weights_regr[\"word\"].head(n_top_words)).union(set(weights_clf[\"word\"].head(n_top_words)))\n",
    "\n",
    "weights = pd.concat([weights_regr, weights_clf])\n",
    "weights = weights[weights[\"word\"].isin(top_words)]\n",
    "\n",
    "fig = px.bar(weights, x=\"word\", y=\"weight\", color=\"type\", barmode=\"group\")\n",
    "fig.show()"
   ],
   "id": "d18805df317156af",
   "outputs": [
    {
     "data": {
      "application/vnd.plotly.v1+json": {
       "data": [
        {
         "alignmentgroup": "True",
         "hovertemplate": "type=regr<br>word=%{x}<br>weight=%{y}<extra></extra>",
         "legendgroup": "regr",
         "marker": {
          "color": "#636efa",
          "pattern": {
           "shape": ""
          }
         },
         "name": "regr",
         "offsetgroup": "regr",
         "orientation": "v",
         "showlegend": true,
         "textposition": "auto",
         "x": [
          "fraud",
          "api",
          "model",
          "pd002",
          "dag",
          "prev",
          "and",
          "kyc",
          "curp",
          "risk",
          "pd003",
          "monitoring"
         ],
         "xaxis": "x",
         "y": [
          1.0,
          0.9729310815976355,
          0.8711763861697353,
          0.7843407223881725,
          0.7365581970139163,
          0.7276918258991264,
          0.7181747718602095,
          0.5820431214954509,
          0.4080538699977715,
          -0.27779630423321583,
          -0.06555065346989296,
          -0.0631040554363401
         ],
         "yaxis": "y",
         "type": "bar"
        },
        {
         "alignmentgroup": "True",
         "hovertemplate": "type=clf<br>word=%{x}<br>weight=%{y}<extra></extra>",
         "legendgroup": "clf",
         "marker": {
          "color": "#EF553B",
          "pattern": {
           "shape": ""
          }
         },
         "name": "clf",
         "offsetgroup": "clf",
         "orientation": "v",
         "showlegend": true,
         "textposition": "auto",
         "x": [
          "model",
          "risk",
          "monitoring",
          "pd002",
          "kyc",
          "curp",
          "pd003",
          "dag",
          "fraud",
          "and",
          "prev",
          "api"
         ],
         "xaxis": "x",
         "y": [
          1.0,
          -0.9301053578936042,
          0.84901087878094,
          0.8128753615719139,
          0.8114232692077119,
          0.7968324758428295,
          0.7782855630497213,
          0.7524214069122657,
          0.5983437600165521,
          0.4075491389965715,
          0.31924827739077366,
          0.31586152918877536
         ],
         "yaxis": "y",
         "type": "bar"
        }
       ],
       "layout": {
        "template": {
         "data": {
          "histogram2dcontour": [
           {
            "type": "histogram2dcontour",
            "colorbar": {
             "outlinewidth": 0,
             "ticks": ""
            },
            "colorscale": [
             [
              0.0,
              "#0d0887"
             ],
             [
              0.1111111111111111,
              "#46039f"
             ],
             [
              0.2222222222222222,
              "#7201a8"
             ],
             [
              0.3333333333333333,
              "#9c179e"
             ],
             [
              0.4444444444444444,
              "#bd3786"
             ],
             [
              0.5555555555555556,
              "#d8576b"
             ],
             [
              0.6666666666666666,
              "#ed7953"
             ],
             [
              0.7777777777777778,
              "#fb9f3a"
             ],
             [
              0.8888888888888888,
              "#fdca26"
             ],
             [
              1.0,
              "#f0f921"
             ]
            ]
           }
          ],
          "choropleth": [
           {
            "type": "choropleth",
            "colorbar": {
             "outlinewidth": 0,
             "ticks": ""
            }
           }
          ],
          "histogram2d": [
           {
            "type": "histogram2d",
            "colorbar": {
             "outlinewidth": 0,
             "ticks": ""
            },
            "colorscale": [
             [
              0.0,
              "#0d0887"
             ],
             [
              0.1111111111111111,
              "#46039f"
             ],
             [
              0.2222222222222222,
              "#7201a8"
             ],
             [
              0.3333333333333333,
              "#9c179e"
             ],
             [
              0.4444444444444444,
              "#bd3786"
             ],
             [
              0.5555555555555556,
              "#d8576b"
             ],
             [
              0.6666666666666666,
              "#ed7953"
             ],
             [
              0.7777777777777778,
              "#fb9f3a"
             ],
             [
              0.8888888888888888,
              "#fdca26"
             ],
             [
              1.0,
              "#f0f921"
             ]
            ]
           }
          ],
          "heatmap": [
           {
            "type": "heatmap",
            "colorbar": {
             "outlinewidth": 0,
             "ticks": ""
            },
            "colorscale": [
             [
              0.0,
              "#0d0887"
             ],
             [
              0.1111111111111111,
              "#46039f"
             ],
             [
              0.2222222222222222,
              "#7201a8"
             ],
             [
              0.3333333333333333,
              "#9c179e"
             ],
             [
              0.4444444444444444,
              "#bd3786"
             ],
             [
              0.5555555555555556,
              "#d8576b"
             ],
             [
              0.6666666666666666,
              "#ed7953"
             ],
             [
              0.7777777777777778,
              "#fb9f3a"
             ],
             [
              0.8888888888888888,
              "#fdca26"
             ],
             [
              1.0,
              "#f0f921"
             ]
            ]
           }
          ],
          "heatmapgl": [
           {
            "type": "heatmapgl",
            "colorbar": {
             "outlinewidth": 0,
             "ticks": ""
            },
            "colorscale": [
             [
              0.0,
              "#0d0887"
             ],
             [
              0.1111111111111111,
              "#46039f"
             ],
             [
              0.2222222222222222,
              "#7201a8"
             ],
             [
              0.3333333333333333,
              "#9c179e"
             ],
             [
              0.4444444444444444,
              "#bd3786"
             ],
             [
              0.5555555555555556,
              "#d8576b"
             ],
             [
              0.6666666666666666,
              "#ed7953"
             ],
             [
              0.7777777777777778,
              "#fb9f3a"
             ],
             [
              0.8888888888888888,
              "#fdca26"
             ],
             [
              1.0,
              "#f0f921"
             ]
            ]
           }
          ],
          "contourcarpet": [
           {
            "type": "contourcarpet",
            "colorbar": {
             "outlinewidth": 0,
             "ticks": ""
            }
           }
          ],
          "contour": [
           {
            "type": "contour",
            "colorbar": {
             "outlinewidth": 0,
             "ticks": ""
            },
            "colorscale": [
             [
              0.0,
              "#0d0887"
             ],
             [
              0.1111111111111111,
              "#46039f"
             ],
             [
              0.2222222222222222,
              "#7201a8"
             ],
             [
              0.3333333333333333,
              "#9c179e"
             ],
             [
              0.4444444444444444,
              "#bd3786"
             ],
             [
              0.5555555555555556,
              "#d8576b"
             ],
             [
              0.6666666666666666,
              "#ed7953"
             ],
             [
              0.7777777777777778,
              "#fb9f3a"
             ],
             [
              0.8888888888888888,
              "#fdca26"
             ],
             [
              1.0,
              "#f0f921"
             ]
            ]
           }
          ],
          "surface": [
           {
            "type": "surface",
            "colorbar": {
             "outlinewidth": 0,
             "ticks": ""
            },
            "colorscale": [
             [
              0.0,
              "#0d0887"
             ],
             [
              0.1111111111111111,
              "#46039f"
             ],
             [
              0.2222222222222222,
              "#7201a8"
             ],
             [
              0.3333333333333333,
              "#9c179e"
             ],
             [
              0.4444444444444444,
              "#bd3786"
             ],
             [
              0.5555555555555556,
              "#d8576b"
             ],
             [
              0.6666666666666666,
              "#ed7953"
             ],
             [
              0.7777777777777778,
              "#fb9f3a"
             ],
             [
              0.8888888888888888,
              "#fdca26"
             ],
             [
              1.0,
              "#f0f921"
             ]
            ]
           }
          ],
          "mesh3d": [
           {
            "type": "mesh3d",
            "colorbar": {
             "outlinewidth": 0,
             "ticks": ""
            }
           }
          ],
          "scatter": [
           {
            "fillpattern": {
             "fillmode": "overlay",
             "size": 10,
             "solidity": 0.2
            },
            "type": "scatter"
           }
          ],
          "parcoords": [
           {
            "type": "parcoords",
            "line": {
             "colorbar": {
              "outlinewidth": 0,
              "ticks": ""
             }
            }
           }
          ],
          "scatterpolargl": [
           {
            "type": "scatterpolargl",
            "marker": {
             "colorbar": {
              "outlinewidth": 0,
              "ticks": ""
             }
            }
           }
          ],
          "bar": [
           {
            "error_x": {
             "color": "#2a3f5f"
            },
            "error_y": {
             "color": "#2a3f5f"
            },
            "marker": {
             "line": {
              "color": "#E5ECF6",
              "width": 0.5
             },
             "pattern": {
              "fillmode": "overlay",
              "size": 10,
              "solidity": 0.2
             }
            },
            "type": "bar"
           }
          ],
          "scattergeo": [
           {
            "type": "scattergeo",
            "marker": {
             "colorbar": {
              "outlinewidth": 0,
              "ticks": ""
             }
            }
           }
          ],
          "scatterpolar": [
           {
            "type": "scatterpolar",
            "marker": {
             "colorbar": {
              "outlinewidth": 0,
              "ticks": ""
             }
            }
           }
          ],
          "histogram": [
           {
            "marker": {
             "pattern": {
              "fillmode": "overlay",
              "size": 10,
              "solidity": 0.2
             }
            },
            "type": "histogram"
           }
          ],
          "scattergl": [
           {
            "type": "scattergl",
            "marker": {
             "colorbar": {
              "outlinewidth": 0,
              "ticks": ""
             }
            }
           }
          ],
          "scatter3d": [
           {
            "type": "scatter3d",
            "line": {
             "colorbar": {
              "outlinewidth": 0,
              "ticks": ""
             }
            },
            "marker": {
             "colorbar": {
              "outlinewidth": 0,
              "ticks": ""
             }
            }
           }
          ],
          "scattermapbox": [
           {
            "type": "scattermapbox",
            "marker": {
             "colorbar": {
              "outlinewidth": 0,
              "ticks": ""
             }
            }
           }
          ],
          "scatterternary": [
           {
            "type": "scatterternary",
            "marker": {
             "colorbar": {
              "outlinewidth": 0,
              "ticks": ""
             }
            }
           }
          ],
          "scattercarpet": [
           {
            "type": "scattercarpet",
            "marker": {
             "colorbar": {
              "outlinewidth": 0,
              "ticks": ""
             }
            }
           }
          ],
          "carpet": [
           {
            "aaxis": {
             "endlinecolor": "#2a3f5f",
             "gridcolor": "white",
             "linecolor": "white",
             "minorgridcolor": "white",
             "startlinecolor": "#2a3f5f"
            },
            "baxis": {
             "endlinecolor": "#2a3f5f",
             "gridcolor": "white",
             "linecolor": "white",
             "minorgridcolor": "white",
             "startlinecolor": "#2a3f5f"
            },
            "type": "carpet"
           }
          ],
          "table": [
           {
            "cells": {
             "fill": {
              "color": "#EBF0F8"
             },
             "line": {
              "color": "white"
             }
            },
            "header": {
             "fill": {
              "color": "#C8D4E3"
             },
             "line": {
              "color": "white"
             }
            },
            "type": "table"
           }
          ],
          "barpolar": [
           {
            "marker": {
             "line": {
              "color": "#E5ECF6",
              "width": 0.5
             },
             "pattern": {
              "fillmode": "overlay",
              "size": 10,
              "solidity": 0.2
             }
            },
            "type": "barpolar"
           }
          ],
          "pie": [
           {
            "automargin": true,
            "type": "pie"
           }
          ]
         },
         "layout": {
          "autotypenumbers": "strict",
          "colorway": [
           "#636efa",
           "#EF553B",
           "#00cc96",
           "#ab63fa",
           "#FFA15A",
           "#19d3f3",
           "#FF6692",
           "#B6E880",
           "#FF97FF",
           "#FECB52"
          ],
          "font": {
           "color": "#2a3f5f"
          },
          "hovermode": "closest",
          "hoverlabel": {
           "align": "left"
          },
          "paper_bgcolor": "white",
          "plot_bgcolor": "#E5ECF6",
          "polar": {
           "bgcolor": "#E5ECF6",
           "angularaxis": {
            "gridcolor": "white",
            "linecolor": "white",
            "ticks": ""
           },
           "radialaxis": {
            "gridcolor": "white",
            "linecolor": "white",
            "ticks": ""
           }
          },
          "ternary": {
           "bgcolor": "#E5ECF6",
           "aaxis": {
            "gridcolor": "white",
            "linecolor": "white",
            "ticks": ""
           },
           "baxis": {
            "gridcolor": "white",
            "linecolor": "white",
            "ticks": ""
           },
           "caxis": {
            "gridcolor": "white",
            "linecolor": "white",
            "ticks": ""
           }
          },
          "coloraxis": {
           "colorbar": {
            "outlinewidth": 0,
            "ticks": ""
           }
          },
          "colorscale": {
           "sequential": [
            [
             0.0,
             "#0d0887"
            ],
            [
             0.1111111111111111,
             "#46039f"
            ],
            [
             0.2222222222222222,
             "#7201a8"
            ],
            [
             0.3333333333333333,
             "#9c179e"
            ],
            [
             0.4444444444444444,
             "#bd3786"
            ],
            [
             0.5555555555555556,
             "#d8576b"
            ],
            [
             0.6666666666666666,
             "#ed7953"
            ],
            [
             0.7777777777777778,
             "#fb9f3a"
            ],
            [
             0.8888888888888888,
             "#fdca26"
            ],
            [
             1.0,
             "#f0f921"
            ]
           ],
           "sequentialminus": [
            [
             0.0,
             "#0d0887"
            ],
            [
             0.1111111111111111,
             "#46039f"
            ],
            [
             0.2222222222222222,
             "#7201a8"
            ],
            [
             0.3333333333333333,
             "#9c179e"
            ],
            [
             0.4444444444444444,
             "#bd3786"
            ],
            [
             0.5555555555555556,
             "#d8576b"
            ],
            [
             0.6666666666666666,
             "#ed7953"
            ],
            [
             0.7777777777777778,
             "#fb9f3a"
            ],
            [
             0.8888888888888888,
             "#fdca26"
            ],
            [
             1.0,
             "#f0f921"
            ]
           ],
           "diverging": [
            [
             0,
             "#8e0152"
            ],
            [
             0.1,
             "#c51b7d"
            ],
            [
             0.2,
             "#de77ae"
            ],
            [
             0.3,
             "#f1b6da"
            ],
            [
             0.4,
             "#fde0ef"
            ],
            [
             0.5,
             "#f7f7f7"
            ],
            [
             0.6,
             "#e6f5d0"
            ],
            [
             0.7,
             "#b8e186"
            ],
            [
             0.8,
             "#7fbc41"
            ],
            [
             0.9,
             "#4d9221"
            ],
            [
             1,
             "#276419"
            ]
           ]
          },
          "xaxis": {
           "gridcolor": "white",
           "linecolor": "white",
           "ticks": "",
           "title": {
            "standoff": 15
           },
           "zerolinecolor": "white",
           "automargin": true,
           "zerolinewidth": 2
          },
          "yaxis": {
           "gridcolor": "white",
           "linecolor": "white",
           "ticks": "",
           "title": {
            "standoff": 15
           },
           "zerolinecolor": "white",
           "automargin": true,
           "zerolinewidth": 2
          },
          "scene": {
           "xaxis": {
            "backgroundcolor": "#E5ECF6",
            "gridcolor": "white",
            "linecolor": "white",
            "showbackground": true,
            "ticks": "",
            "zerolinecolor": "white",
            "gridwidth": 2
           },
           "yaxis": {
            "backgroundcolor": "#E5ECF6",
            "gridcolor": "white",
            "linecolor": "white",
            "showbackground": true,
            "ticks": "",
            "zerolinecolor": "white",
            "gridwidth": 2
           },
           "zaxis": {
            "backgroundcolor": "#E5ECF6",
            "gridcolor": "white",
            "linecolor": "white",
            "showbackground": true,
            "ticks": "",
            "zerolinecolor": "white",
            "gridwidth": 2
           }
          },
          "shapedefaults": {
           "line": {
            "color": "#2a3f5f"
           }
          },
          "annotationdefaults": {
           "arrowcolor": "#2a3f5f",
           "arrowhead": 0,
           "arrowwidth": 1
          },
          "geo": {
           "bgcolor": "white",
           "landcolor": "#E5ECF6",
           "subunitcolor": "white",
           "showland": true,
           "showlakes": true,
           "lakecolor": "white"
          },
          "title": {
           "x": 0.05
          },
          "mapbox": {
           "style": "light"
          }
         }
        },
        "xaxis": {
         "anchor": "y",
         "domain": [
          0.0,
          1.0
         ],
         "title": {
          "text": "word"
         }
        },
        "yaxis": {
         "anchor": "x",
         "domain": [
          0.0,
          1.0
         ],
         "title": {
          "text": "weight"
         }
        },
        "legend": {
         "title": {
          "text": "type"
         },
         "tracegroupgap": 0
        },
        "margin": {
         "t": 60
        },
        "barmode": "group"
       },
       "config": {
        "plotlyServerURL": "https://plot.ly"
       }
      },
      "text/html": [
       "<div>                            <div id=\"64d10b90-3b6f-4207-baa6-a8a58925cceb\" class=\"plotly-graph-div\" style=\"height:525px; width:100%;\"></div>            <script type=\"text/javascript\">                require([\"plotly\"], function(Plotly) {                    window.PLOTLYENV=window.PLOTLYENV || {};                                    if (document.getElementById(\"64d10b90-3b6f-4207-baa6-a8a58925cceb\")) {                    Plotly.newPlot(                        \"64d10b90-3b6f-4207-baa6-a8a58925cceb\",                        [{\"alignmentgroup\":\"True\",\"hovertemplate\":\"type=regr\\u003cbr\\u003eword=%{x}\\u003cbr\\u003eweight=%{y}\\u003cextra\\u003e\\u003c\\u002fextra\\u003e\",\"legendgroup\":\"regr\",\"marker\":{\"color\":\"#636efa\",\"pattern\":{\"shape\":\"\"}},\"name\":\"regr\",\"offsetgroup\":\"regr\",\"orientation\":\"v\",\"showlegend\":true,\"textposition\":\"auto\",\"x\":[\"fraud\",\"api\",\"model\",\"pd002\",\"dag\",\"prev\",\"and\",\"kyc\",\"curp\",\"risk\",\"pd003\",\"monitoring\"],\"xaxis\":\"x\",\"y\":[1.0,0.9729310815976355,0.8711763861697353,0.7843407223881725,0.7365581970139163,0.7276918258991264,0.7181747718602095,0.5820431214954509,0.4080538699977715,-0.27779630423321583,-0.06555065346989296,-0.0631040554363401],\"yaxis\":\"y\",\"type\":\"bar\"},{\"alignmentgroup\":\"True\",\"hovertemplate\":\"type=clf\\u003cbr\\u003eword=%{x}\\u003cbr\\u003eweight=%{y}\\u003cextra\\u003e\\u003c\\u002fextra\\u003e\",\"legendgroup\":\"clf\",\"marker\":{\"color\":\"#EF553B\",\"pattern\":{\"shape\":\"\"}},\"name\":\"clf\",\"offsetgroup\":\"clf\",\"orientation\":\"v\",\"showlegend\":true,\"textposition\":\"auto\",\"x\":[\"model\",\"risk\",\"monitoring\",\"pd002\",\"kyc\",\"curp\",\"pd003\",\"dag\",\"fraud\",\"and\",\"prev\",\"api\"],\"xaxis\":\"x\",\"y\":[1.0,-0.9301053578936042,0.84901087878094,0.8128753615719139,0.8114232692077119,0.7968324758428295,0.7782855630497213,0.7524214069122657,0.5983437600165521,0.4075491389965715,0.31924827739077366,0.31586152918877536],\"yaxis\":\"y\",\"type\":\"bar\"}],                        {\"template\":{\"data\":{\"histogram2dcontour\":[{\"type\":\"histogram2dcontour\",\"colorbar\":{\"outlinewidth\":0,\"ticks\":\"\"},\"colorscale\":[[0.0,\"#0d0887\"],[0.1111111111111111,\"#46039f\"],[0.2222222222222222,\"#7201a8\"],[0.3333333333333333,\"#9c179e\"],[0.4444444444444444,\"#bd3786\"],[0.5555555555555556,\"#d8576b\"],[0.6666666666666666,\"#ed7953\"],[0.7777777777777778,\"#fb9f3a\"],[0.8888888888888888,\"#fdca26\"],[1.0,\"#f0f921\"]]}],\"choropleth\":[{\"type\":\"choropleth\",\"colorbar\":{\"outlinewidth\":0,\"ticks\":\"\"}}],\"histogram2d\":[{\"type\":\"histogram2d\",\"colorbar\":{\"outlinewidth\":0,\"ticks\":\"\"},\"colorscale\":[[0.0,\"#0d0887\"],[0.1111111111111111,\"#46039f\"],[0.2222222222222222,\"#7201a8\"],[0.3333333333333333,\"#9c179e\"],[0.4444444444444444,\"#bd3786\"],[0.5555555555555556,\"#d8576b\"],[0.6666666666666666,\"#ed7953\"],[0.7777777777777778,\"#fb9f3a\"],[0.8888888888888888,\"#fdca26\"],[1.0,\"#f0f921\"]]}],\"heatmap\":[{\"type\":\"heatmap\",\"colorbar\":{\"outlinewidth\":0,\"ticks\":\"\"},\"colorscale\":[[0.0,\"#0d0887\"],[0.1111111111111111,\"#46039f\"],[0.2222222222222222,\"#7201a8\"],[0.3333333333333333,\"#9c179e\"],[0.4444444444444444,\"#bd3786\"],[0.5555555555555556,\"#d8576b\"],[0.6666666666666666,\"#ed7953\"],[0.7777777777777778,\"#fb9f3a\"],[0.8888888888888888,\"#fdca26\"],[1.0,\"#f0f921\"]]}],\"heatmapgl\":[{\"type\":\"heatmapgl\",\"colorbar\":{\"outlinewidth\":0,\"ticks\":\"\"},\"colorscale\":[[0.0,\"#0d0887\"],[0.1111111111111111,\"#46039f\"],[0.2222222222222222,\"#7201a8\"],[0.3333333333333333,\"#9c179e\"],[0.4444444444444444,\"#bd3786\"],[0.5555555555555556,\"#d8576b\"],[0.6666666666666666,\"#ed7953\"],[0.7777777777777778,\"#fb9f3a\"],[0.8888888888888888,\"#fdca26\"],[1.0,\"#f0f921\"]]}],\"contourcarpet\":[{\"type\":\"contourcarpet\",\"colorbar\":{\"outlinewidth\":0,\"ticks\":\"\"}}],\"contour\":[{\"type\":\"contour\",\"colorbar\":{\"outlinewidth\":0,\"ticks\":\"\"},\"colorscale\":[[0.0,\"#0d0887\"],[0.1111111111111111,\"#46039f\"],[0.2222222222222222,\"#7201a8\"],[0.3333333333333333,\"#9c179e\"],[0.4444444444444444,\"#bd3786\"],[0.5555555555555556,\"#d8576b\"],[0.6666666666666666,\"#ed7953\"],[0.7777777777777778,\"#fb9f3a\"],[0.8888888888888888,\"#fdca26\"],[1.0,\"#f0f921\"]]}],\"surface\":[{\"type\":\"surface\",\"colorbar\":{\"outlinewidth\":0,\"ticks\":\"\"},\"colorscale\":[[0.0,\"#0d0887\"],[0.1111111111111111,\"#46039f\"],[0.2222222222222222,\"#7201a8\"],[0.3333333333333333,\"#9c179e\"],[0.4444444444444444,\"#bd3786\"],[0.5555555555555556,\"#d8576b\"],[0.6666666666666666,\"#ed7953\"],[0.7777777777777778,\"#fb9f3a\"],[0.8888888888888888,\"#fdca26\"],[1.0,\"#f0f921\"]]}],\"mesh3d\":[{\"type\":\"mesh3d\",\"colorbar\":{\"outlinewidth\":0,\"ticks\":\"\"}}],\"scatter\":[{\"fillpattern\":{\"fillmode\":\"overlay\",\"size\":10,\"solidity\":0.2},\"type\":\"scatter\"}],\"parcoords\":[{\"type\":\"parcoords\",\"line\":{\"colorbar\":{\"outlinewidth\":0,\"ticks\":\"\"}}}],\"scatterpolargl\":[{\"type\":\"scatterpolargl\",\"marker\":{\"colorbar\":{\"outlinewidth\":0,\"ticks\":\"\"}}}],\"bar\":[{\"error_x\":{\"color\":\"#2a3f5f\"},\"error_y\":{\"color\":\"#2a3f5f\"},\"marker\":{\"line\":{\"color\":\"#E5ECF6\",\"width\":0.5},\"pattern\":{\"fillmode\":\"overlay\",\"size\":10,\"solidity\":0.2}},\"type\":\"bar\"}],\"scattergeo\":[{\"type\":\"scattergeo\",\"marker\":{\"colorbar\":{\"outlinewidth\":0,\"ticks\":\"\"}}}],\"scatterpolar\":[{\"type\":\"scatterpolar\",\"marker\":{\"colorbar\":{\"outlinewidth\":0,\"ticks\":\"\"}}}],\"histogram\":[{\"marker\":{\"pattern\":{\"fillmode\":\"overlay\",\"size\":10,\"solidity\":0.2}},\"type\":\"histogram\"}],\"scattergl\":[{\"type\":\"scattergl\",\"marker\":{\"colorbar\":{\"outlinewidth\":0,\"ticks\":\"\"}}}],\"scatter3d\":[{\"type\":\"scatter3d\",\"line\":{\"colorbar\":{\"outlinewidth\":0,\"ticks\":\"\"}},\"marker\":{\"colorbar\":{\"outlinewidth\":0,\"ticks\":\"\"}}}],\"scattermapbox\":[{\"type\":\"scattermapbox\",\"marker\":{\"colorbar\":{\"outlinewidth\":0,\"ticks\":\"\"}}}],\"scatterternary\":[{\"type\":\"scatterternary\",\"marker\":{\"colorbar\":{\"outlinewidth\":0,\"ticks\":\"\"}}}],\"scattercarpet\":[{\"type\":\"scattercarpet\",\"marker\":{\"colorbar\":{\"outlinewidth\":0,\"ticks\":\"\"}}}],\"carpet\":[{\"aaxis\":{\"endlinecolor\":\"#2a3f5f\",\"gridcolor\":\"white\",\"linecolor\":\"white\",\"minorgridcolor\":\"white\",\"startlinecolor\":\"#2a3f5f\"},\"baxis\":{\"endlinecolor\":\"#2a3f5f\",\"gridcolor\":\"white\",\"linecolor\":\"white\",\"minorgridcolor\":\"white\",\"startlinecolor\":\"#2a3f5f\"},\"type\":\"carpet\"}],\"table\":[{\"cells\":{\"fill\":{\"color\":\"#EBF0F8\"},\"line\":{\"color\":\"white\"}},\"header\":{\"fill\":{\"color\":\"#C8D4E3\"},\"line\":{\"color\":\"white\"}},\"type\":\"table\"}],\"barpolar\":[{\"marker\":{\"line\":{\"color\":\"#E5ECF6\",\"width\":0.5},\"pattern\":{\"fillmode\":\"overlay\",\"size\":10,\"solidity\":0.2}},\"type\":\"barpolar\"}],\"pie\":[{\"automargin\":true,\"type\":\"pie\"}]},\"layout\":{\"autotypenumbers\":\"strict\",\"colorway\":[\"#636efa\",\"#EF553B\",\"#00cc96\",\"#ab63fa\",\"#FFA15A\",\"#19d3f3\",\"#FF6692\",\"#B6E880\",\"#FF97FF\",\"#FECB52\"],\"font\":{\"color\":\"#2a3f5f\"},\"hovermode\":\"closest\",\"hoverlabel\":{\"align\":\"left\"},\"paper_bgcolor\":\"white\",\"plot_bgcolor\":\"#E5ECF6\",\"polar\":{\"bgcolor\":\"#E5ECF6\",\"angularaxis\":{\"gridcolor\":\"white\",\"linecolor\":\"white\",\"ticks\":\"\"},\"radialaxis\":{\"gridcolor\":\"white\",\"linecolor\":\"white\",\"ticks\":\"\"}},\"ternary\":{\"bgcolor\":\"#E5ECF6\",\"aaxis\":{\"gridcolor\":\"white\",\"linecolor\":\"white\",\"ticks\":\"\"},\"baxis\":{\"gridcolor\":\"white\",\"linecolor\":\"white\",\"ticks\":\"\"},\"caxis\":{\"gridcolor\":\"white\",\"linecolor\":\"white\",\"ticks\":\"\"}},\"coloraxis\":{\"colorbar\":{\"outlinewidth\":0,\"ticks\":\"\"}},\"colorscale\":{\"sequential\":[[0.0,\"#0d0887\"],[0.1111111111111111,\"#46039f\"],[0.2222222222222222,\"#7201a8\"],[0.3333333333333333,\"#9c179e\"],[0.4444444444444444,\"#bd3786\"],[0.5555555555555556,\"#d8576b\"],[0.6666666666666666,\"#ed7953\"],[0.7777777777777778,\"#fb9f3a\"],[0.8888888888888888,\"#fdca26\"],[1.0,\"#f0f921\"]],\"sequentialminus\":[[0.0,\"#0d0887\"],[0.1111111111111111,\"#46039f\"],[0.2222222222222222,\"#7201a8\"],[0.3333333333333333,\"#9c179e\"],[0.4444444444444444,\"#bd3786\"],[0.5555555555555556,\"#d8576b\"],[0.6666666666666666,\"#ed7953\"],[0.7777777777777778,\"#fb9f3a\"],[0.8888888888888888,\"#fdca26\"],[1.0,\"#f0f921\"]],\"diverging\":[[0,\"#8e0152\"],[0.1,\"#c51b7d\"],[0.2,\"#de77ae\"],[0.3,\"#f1b6da\"],[0.4,\"#fde0ef\"],[0.5,\"#f7f7f7\"],[0.6,\"#e6f5d0\"],[0.7,\"#b8e186\"],[0.8,\"#7fbc41\"],[0.9,\"#4d9221\"],[1,\"#276419\"]]},\"xaxis\":{\"gridcolor\":\"white\",\"linecolor\":\"white\",\"ticks\":\"\",\"title\":{\"standoff\":15},\"zerolinecolor\":\"white\",\"automargin\":true,\"zerolinewidth\":2},\"yaxis\":{\"gridcolor\":\"white\",\"linecolor\":\"white\",\"ticks\":\"\",\"title\":{\"standoff\":15},\"zerolinecolor\":\"white\",\"automargin\":true,\"zerolinewidth\":2},\"scene\":{\"xaxis\":{\"backgroundcolor\":\"#E5ECF6\",\"gridcolor\":\"white\",\"linecolor\":\"white\",\"showbackground\":true,\"ticks\":\"\",\"zerolinecolor\":\"white\",\"gridwidth\":2},\"yaxis\":{\"backgroundcolor\":\"#E5ECF6\",\"gridcolor\":\"white\",\"linecolor\":\"white\",\"showbackground\":true,\"ticks\":\"\",\"zerolinecolor\":\"white\",\"gridwidth\":2},\"zaxis\":{\"backgroundcolor\":\"#E5ECF6\",\"gridcolor\":\"white\",\"linecolor\":\"white\",\"showbackground\":true,\"ticks\":\"\",\"zerolinecolor\":\"white\",\"gridwidth\":2}},\"shapedefaults\":{\"line\":{\"color\":\"#2a3f5f\"}},\"annotationdefaults\":{\"arrowcolor\":\"#2a3f5f\",\"arrowhead\":0,\"arrowwidth\":1},\"geo\":{\"bgcolor\":\"white\",\"landcolor\":\"#E5ECF6\",\"subunitcolor\":\"white\",\"showland\":true,\"showlakes\":true,\"lakecolor\":\"white\"},\"title\":{\"x\":0.05},\"mapbox\":{\"style\":\"light\"}}},\"xaxis\":{\"anchor\":\"y\",\"domain\":[0.0,1.0],\"title\":{\"text\":\"word\"}},\"yaxis\":{\"anchor\":\"x\",\"domain\":[0.0,1.0],\"title\":{\"text\":\"weight\"}},\"legend\":{\"title\":{\"text\":\"type\"},\"tracegroupgap\":0},\"margin\":{\"t\":60},\"barmode\":\"group\"},                        {\"responsive\": true}                    ).then(function(){\n",
       "                            \n",
       "var gd = document.getElementById('64d10b90-3b6f-4207-baa6-a8a58925cceb');\n",
       "var x = new MutationObserver(function (mutations, observer) {{\n",
       "        var display = window.getComputedStyle(gd).display;\n",
       "        if (!display || display === 'none') {{\n",
       "            console.log([gd, 'removed!']);\n",
       "            Plotly.purge(gd);\n",
       "            observer.disconnect();\n",
       "        }}\n",
       "}});\n",
       "\n",
       "// Listen for the removal of the full notebook cells\n",
       "var notebookContainer = gd.closest('#notebook-container');\n",
       "if (notebookContainer) {{\n",
       "    x.observe(notebookContainer, {childList: true});\n",
       "}}\n",
       "\n",
       "// Listen for the clearing of the current output cell\n",
       "var outputEl = gd.closest('.output');\n",
       "if (outputEl) {{\n",
       "    x.observe(outputEl, {childList: true});\n",
       "}}\n",
       "\n",
       "                        })                };                });            </script>        </div>"
      ]
     },
     "metadata": {},
     "output_type": "display_data"
    }
   ],
   "execution_count": 86
  },
  {
   "metadata": {},
   "cell_type": "markdown",
   "source": [
    "# Результаты:\n",
    "\n",
    "Мы видим, что задача классификации склонена недооценивать выполнение больших задач – да и в целом выдаются некоторые средние значения. В то время как регрессия показывает более точные результаты. Веса для регрессии и классификации различаются, что говорит о том, что модели используют разные признаки для предсказания времени выполнения задачи."
   ],
   "id": "4606794d86b4dbe6"
  },
  {
   "metadata": {
    "ExecuteTime": {
     "end_time": "2025-01-28T03:52:32.848740Z",
     "start_time": "2025-01-28T03:52:32.847478Z"
    }
   },
   "cell_type": "code",
   "source": "",
   "id": "15a3307cf22b6313",
   "outputs": [],
   "execution_count": null
  }
 ],
 "metadata": {
  "kernelspec": {
   "display_name": "Python 3",
   "language": "python",
   "name": "python3"
  },
  "language_info": {
   "codemirror_mode": {
    "name": "ipython",
    "version": 2
   },
   "file_extension": ".py",
   "mimetype": "text/x-python",
   "name": "python",
   "nbconvert_exporter": "python",
   "pygments_lexer": "ipython2",
   "version": "2.7.6"
  }
 },
 "nbformat": 4,
 "nbformat_minor": 5
}
