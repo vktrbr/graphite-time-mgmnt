{
 "cells": [
  {
   "cell_type": "code",
   "id": "initial_id",
   "metadata": {
    "collapsed": true,
    "ExecuteTime": {
     "end_time": "2025-01-27T11:54:27.505583Z",
     "start_time": "2025-01-27T11:54:24.332625Z"
    }
   },
   "source": [
    "from sklearn.pipeline import Pipeline\n",
    "from sklearn.linear_model import LinearRegression, LogisticRegression\n",
    "from sklearn.model_selection import StratifiedKFold\n",
    "from sklearn.preprocessing import StandardScaler\n",
    "\n",
    "import pandas as pd\n",
    "import numpy as np\n",
    "from src.config import BaseConfig\n",
    "from src.modeling.metrics import weighted_accuracy\n",
    "from tqdm import tqdm\n",
    "import gc\n",
    "\n",
    "from sentence_transformers.cross_encoder import CrossEncoder\n",
    "\n",
    "config = BaseConfig()"
   ],
   "outputs": [],
   "execution_count": 1
  },
  {
   "metadata": {
    "ExecuteTime": {
     "end_time": "2025-01-27T11:54:27.519532Z",
     "start_time": "2025-01-27T11:54:27.509516Z"
    }
   },
   "cell_type": "code",
   "source": [
    "path = config.processed_data_dir / \"final_data_to_train.json\"\n",
    "df = pd.read_json(path)\n",
    "\n",
    "df.head(0)"
   ],
   "id": "f312f07b03576344",
   "outputs": [
    {
     "data": {
      "text/plain": [
       "Empty DataFrame\n",
       "Columns: [assignee_level_order, jira_key, weeks_since_member_join, time_to_complete_hours, task_text]\n",
       "Index: []"
      ],
      "text/html": [
       "<div>\n",
       "<style scoped>\n",
       "    .dataframe tbody tr th:only-of-type {\n",
       "        vertical-align: middle;\n",
       "    }\n",
       "\n",
       "    .dataframe tbody tr th {\n",
       "        vertical-align: top;\n",
       "    }\n",
       "\n",
       "    .dataframe thead th {\n",
       "        text-align: right;\n",
       "    }\n",
       "</style>\n",
       "<table border=\"1\" class=\"dataframe\">\n",
       "  <thead>\n",
       "    <tr style=\"text-align: right;\">\n",
       "      <th></th>\n",
       "      <th>assignee_level_order</th>\n",
       "      <th>jira_key</th>\n",
       "      <th>weeks_since_member_join</th>\n",
       "      <th>time_to_complete_hours</th>\n",
       "      <th>task_text</th>\n",
       "    </tr>\n",
       "  </thead>\n",
       "  <tbody>\n",
       "  </tbody>\n",
       "</table>\n",
       "</div>"
      ]
     },
     "execution_count": 2,
     "metadata": {},
     "output_type": "execute_result"
    }
   ],
   "execution_count": 2
  },
  {
   "metadata": {},
   "cell_type": "markdown",
   "source": [
    "# Simple architecture\n",
    "\n",
    "\n",
    "1. Skip 15 first tasks – it will be used for example for future\n",
    "2. For each task get 5 most relevant by Cross Encoder.\n",
    "3. Update corpus for each task by time (jira_key is enough to order)\n",
    "4. Make 5 more columns with their time_to_complete_hours\n",
    "5. Based on these features make simple prediction"
   ],
   "id": "e7a689daf580547e"
  },
  {
   "metadata": {},
   "cell_type": "markdown",
   "source": "# Data preprocessing",
   "id": "c6918c3ee8a28bd7"
  },
  {
   "metadata": {
    "ExecuteTime": {
     "end_time": "2025-01-27T11:54:27.919084Z",
     "start_time": "2025-01-27T11:54:27.658534Z"
    }
   },
   "cell_type": "code",
   "source": [
    "df = df.sort_values(by=[\"jira_key\"])\n",
    "df = df.reset_index(drop=True)\n",
    "df[\"time_to_complete_hours\"] = df[\"time_to_complete_hours\"].clip(1, 16)  # clip between 2 and 24 hours\n",
    "\n",
    "corpus_col = []\n",
    "\n",
    "for i in range(df.shape[0]):\n",
    "    corpus_col.append(df.iloc[:i][[\"jira_key\", \"task_text\", \"time_to_complete_hours\"]].to_dict(orient=\"records\"))"
   ],
   "id": "d18805df317156af",
   "outputs": [],
   "execution_count": 3
  },
  {
   "metadata": {
    "ExecuteTime": {
     "end_time": "2025-01-27T11:54:30.634357Z",
     "start_time": "2025-01-27T11:54:29.627080Z"
    }
   },
   "cell_type": "code",
   "source": "model = CrossEncoder(\"cross-encoder/stsb-distilroberta-base\")",
   "id": "5c83a46364980a26",
   "outputs": [],
   "execution_count": 4
  },
  {
   "metadata": {
    "ExecuteTime": {
     "end_time": "2025-01-27T12:12:05.197244Z",
     "start_time": "2025-01-27T11:54:46.893791Z"
    }
   },
   "cell_type": "code",
   "source": [
    "reranked_tasks = []\n",
    "N_SIMILAR_TASKS = 5\n",
    "LAST_N_TASKS = 100  # Make ranking from last 100 tasks only\n",
    "\n",
    "for i in tqdm(range(len(corpus_col))):\n",
    "\n",
    "    if i < 15:\n",
    "        reranked_tasks.append({})\n",
    "        continue\n",
    "\n",
    "    query = df[\"task_text\"].iloc[i]\n",
    "\n",
    "    # We guarantee that corpus sorted by jira_key = time of task\n",
    "    corpus = corpus_col[i][-LAST_N_TASKS:]\n",
    "    ranks = model.rank(query, pd.DataFrame(corpus).task_text.tolist())\n",
    "    ranks = sorted(ranks, key=lambda x: x[\"score\"], reverse=True)\n",
    "    ranks = ranks[:N_SIMILAR_TASKS]\n",
    "    ranks = list(map(lambda x: x[\"corpus_id\"], ranks))\n",
    "\n",
    "    tasks = [\n",
    "        {\n",
    "            \"corpus\": corpus[i],\n",
    "            \"ranks\": ranks[i]\n",
    "        } for i in range(len(ranks))\n",
    "    ]\n",
    "\n",
    "    reranked_tasks.append(\n",
    "        {\n",
    "            \"ranks\": ranks,\n",
    "            \"rel_tasks\": tasks\n",
    "        }\n",
    "    )\n",
    "\n",
    "    gc.collect()\n"
   ],
   "id": "b955c742d6e9642",
   "outputs": [
    {
     "name": "stderr",
     "output_type": "stream",
     "text": [
      "100%|██████████| 487/487 [17:18<00:00,  2.13s/it] \n"
     ]
    }
   ],
   "execution_count": 5
  },
  {
   "metadata": {
    "ExecuteTime": {
     "end_time": "2025-01-27T12:17:06.932761Z",
     "start_time": "2025-01-27T12:17:06.930389Z"
    }
   },
   "cell_type": "code",
   "source": [
    "processed = []\n",
    "\n",
    "for i, task in enumerate(df[\"jira_key\"]):\n",
    "    processed.append(\n",
    "        {\n",
    "            \"task\": task,\n",
    "            \"relevant_tasks\": reranked_tasks[i].get(\"rel_tasks\", {}),\n",
    "        }\n",
    "    )\n"
   ],
   "id": "da50c85eeb5195f",
   "outputs": [],
   "execution_count": 15
  },
  {
   "metadata": {
    "ExecuteTime": {
     "end_time": "2025-01-27T12:17:48.864914Z",
     "start_time": "2025-01-27T12:17:48.817383Z"
    }
   },
   "cell_type": "code",
   "source": [
    "import json\n",
    "\n",
    "path = config.processed_data_dir / \"final_data_to_train_w_relevant_previous_tasks.json\"\n",
    "\n",
    "path.write_text(json.dumps(processed, indent=4, ensure_ascii=False))"
   ],
   "id": "141bdbb2a44368a",
   "outputs": [
    {
     "data": {
      "text/plain": [
       "3847825"
      ]
     },
     "execution_count": 16,
     "metadata": {},
     "output_type": "execute_result"
    }
   ],
   "execution_count": 16
  },
  {
   "metadata": {},
   "cell_type": "markdown",
   "source": "# Modeling",
   "id": "31a181b36ecc3a92"
  },
  {
   "metadata": {
    "ExecuteTime": {
     "end_time": "2025-01-27T12:18:43.479717Z",
     "start_time": "2025-01-27T12:18:43.465542Z"
    }
   },
   "cell_type": "code",
   "source": [
    "data_w_relevance = pd.read_json(path)\n",
    "data_w_relevance.head(0)"
   ],
   "id": "fb371548fa606e08",
   "outputs": [
    {
     "data": {
      "text/plain": [
       "Empty DataFrame\n",
       "Columns: [task, relevant_tasks]\n",
       "Index: []"
      ],
      "text/html": [
       "<div>\n",
       "<style scoped>\n",
       "    .dataframe tbody tr th:only-of-type {\n",
       "        vertical-align: middle;\n",
       "    }\n",
       "\n",
       "    .dataframe tbody tr th {\n",
       "        vertical-align: top;\n",
       "    }\n",
       "\n",
       "    .dataframe thead th {\n",
       "        text-align: right;\n",
       "    }\n",
       "</style>\n",
       "<table border=\"1\" class=\"dataframe\">\n",
       "  <thead>\n",
       "    <tr style=\"text-align: right;\">\n",
       "      <th></th>\n",
       "      <th>task</th>\n",
       "      <th>relevant_tasks</th>\n",
       "    </tr>\n",
       "  </thead>\n",
       "  <tbody>\n",
       "  </tbody>\n",
       "</table>\n",
       "</div>"
      ]
     },
     "execution_count": 19,
     "metadata": {},
     "output_type": "execute_result"
    }
   ],
   "execution_count": 19
  },
  {
   "metadata": {
    "ExecuteTime": {
     "end_time": "2025-01-27T12:29:13.940135Z",
     "start_time": "2025-01-27T12:29:13.934620Z"
    }
   },
   "cell_type": "code",
   "source": [
    "def flatten_previous_task(task_: dict) -> pd.Series:\n",
    "    \"\"\"\n",
    "    Get from list of jsons such as [\n",
    "        {\n",
    "            \"corpus\": {\n",
    "                \"jira_key\": \"PRT-101\",\n",
    "                \"task_text\": \"**Summary:** ...\",\n",
    "                \"time_to_complete_hours\": 2\n",
    "            },\n",
    "            \"ranks\": 12\n",
    "        },\n",
    "        {\n",
    "            \"corpus\": {\n",
    "                \"jira_key\": \"PRT-102\",\n",
    "                \"task_text\": \"**Summary:** ...\",\n",
    "                \"time_to_complete_hours\": 8\n",
    "            },\n",
    "            \"ranks\": 4\n",
    "        }\n",
    "    ] to columns with 2 and 8 – time_to_complete_hours\n",
    "\n",
    "    :param task_:\n",
    "    :return:\n",
    "    \"\"\"\n",
    "\n",
    "    if not isinstance(task_, list):\n",
    "        return pd.Series()\n",
    "\n",
    "    hours = [t.get(\"corpus\", {}).get(\"time_to_complete_hours\") for t in task_]\n",
    "    names = [f\"prev_task_eta_{i}\" for i in range(len(hours))]\n",
    "\n",
    "    return pd.Series(hours, index=names)\n",
    "\n",
    "\n",
    "flatten_previous_task(data_w_relevance.relevant_tasks[16])"
   ],
   "id": "1ae788794c648d53",
   "outputs": [
    {
     "data": {
      "text/plain": [
       "prev_task_eta_0    2\n",
       "prev_task_eta_1    8\n",
       "prev_task_eta_2    8\n",
       "prev_task_eta_3    4\n",
       "prev_task_eta_4    8\n",
       "dtype: int64"
      ]
     },
     "execution_count": 29,
     "metadata": {},
     "output_type": "execute_result"
    }
   ],
   "execution_count": 29
  },
  {
   "metadata": {
    "ExecuteTime": {
     "end_time": "2025-01-27T12:30:16.785987Z",
     "start_time": "2025-01-27T12:30:16.752874Z"
    }
   },
   "cell_type": "code",
   "source": [
    "data_w_relevance_flatten = data_w_relevance.relevant_tasks.apply(flatten_previous_task)\n",
    "data_w_relevance_flatten[\"jira_key\"] = data_w_relevance[\"task\"]"
   ],
   "id": "5e56d4a50338b1db",
   "outputs": [],
   "execution_count": 32
  },
  {
   "metadata": {
    "ExecuteTime": {
     "end_time": "2025-01-28T03:45:33.762526Z",
     "start_time": "2025-01-28T03:45:33.698885Z"
    }
   },
   "cell_type": "code",
   "source": [
    "path = config.processed_data_dir / \"final_data_to_train.json\"\n",
    "test_keys_path = config.processed_data_dir / \"test_tasks.csv\"\n",
    "df = pd.read_json(path)\n",
    "test_keys = pd.read_csv(test_keys_path)\n",
    "\n",
    "df[\"time_to_complete_hours_transformed\"] = df[\"time_to_complete_hours\"].clip(2, 12)  # clip between 2 and 24 hours\n",
    "df[\"time_to_complete_hours_transformed\"] = df[\"time_to_complete_hours_transformed\"] // 2 * 2  # round to the nearest even number"
   ],
   "id": "8aaca4755bda57ec",
   "outputs": [],
   "execution_count": 61
  },
  {
   "metadata": {
    "ExecuteTime": {
     "end_time": "2025-01-28T03:45:51.956234Z",
     "start_time": "2025-01-28T03:45:51.949149Z"
    }
   },
   "cell_type": "code",
   "source": [
    "x = df[[\"jira_key\", \"assignee_level_order\", \"weeks_since_member_join\"]].copy()\n",
    "\n",
    "y = df[\"time_to_complete_hours_transformed\"]\n",
    "\n",
    "x = x.merge(data_w_relevance_flatten, on=\"jira_key\", how=\"left\")\n",
    "x = x.drop(columns=[\"jira_key\"])\n",
    "\n",
    "y_test_from_manual = y[~df.jira_key.isin(test_keys.jira_key)].copy()\n",
    "x_test_from_manual = x[~df.jira_key.isin(test_keys.jira_key)].copy()\n",
    "\n",
    "y = y[~df.jira_key.isin(test_keys.jira_key)]\n",
    "x = x[~df.jira_key.isin(test_keys.jira_key)]\n",
    "\n",
    "y.value_counts().sort_index()\n",
    "\n",
    "y = y[x.notna().all(axis=1)]\n",
    "x = x[x.notna().all(axis=1)]"
   ],
   "id": "bfed9a500eaa5532",
   "outputs": [],
   "execution_count": 63
  },
  {
   "metadata": {
    "ExecuteTime": {
     "end_time": "2025-01-28T03:46:18.881120Z",
     "start_time": "2025-01-28T03:46:18.866841Z"
    }
   },
   "cell_type": "code",
   "source": [
    "pipe = Pipeline([\n",
    "    (\"scaler\", StandardScaler()),\n",
    "    (\"lr\", LinearRegression())\n",
    "])\n",
    "\n",
    "metrics = {\n",
    "    \"w_acc_test_transformed\": [],\n",
    "    \"w_acc_train_transformed\": [],\n",
    "}\n",
    "skf = StratifiedKFold(n_splits=3, random_state=42, shuffle=True)\n",
    "\n",
    "for train_index, test_index in skf.split(x, (y // 2) * 2):\n",
    "    x_train, x_test = x.iloc[train_index], x.iloc[test_index]\n",
    "    y_train, y_test = y.iloc[train_index], y.iloc[test_index]\n",
    "\n",
    "    pipe.fit(x_train, y_train)\n",
    "\n",
    "    # evaluation\n",
    "    keys = [\"w_acc_test_transformed\", \"w_acc_train_transformed\"]\n",
    "    xs = [x_test, x_train]\n",
    "    ys = [y_test, y_train]\n",
    "    for key, x_, y_ in zip(keys, xs, ys):\n",
    "        y_pred = pipe.predict(x_)\n",
    "        metrics[key].append(weighted_accuracy(y_, y_pred))\n",
    "\n",
    "metrics = {\n",
    "    k: {\n",
    "        \"mean\": np.mean(v),\n",
    "        \"std\": np.std(v)\n",
    "    }\n",
    "    for k, v in metrics.items()\n",
    "}\n",
    "\n",
    "pd.DataFrame(metrics)"
   ],
   "id": "3366861bee8569e3",
   "outputs": [
    {
     "data": {
      "text/plain": [
       "      w_acc_test_transformed  w_acc_train_transformed\n",
       "mean                0.148576                 0.162667\n",
       "std                 0.007545                 0.004045"
      ],
      "text/html": [
       "<div>\n",
       "<style scoped>\n",
       "    .dataframe tbody tr th:only-of-type {\n",
       "        vertical-align: middle;\n",
       "    }\n",
       "\n",
       "    .dataframe tbody tr th {\n",
       "        vertical-align: top;\n",
       "    }\n",
       "\n",
       "    .dataframe thead th {\n",
       "        text-align: right;\n",
       "    }\n",
       "</style>\n",
       "<table border=\"1\" class=\"dataframe\">\n",
       "  <thead>\n",
       "    <tr style=\"text-align: right;\">\n",
       "      <th></th>\n",
       "      <th>w_acc_test_transformed</th>\n",
       "      <th>w_acc_train_transformed</th>\n",
       "    </tr>\n",
       "  </thead>\n",
       "  <tbody>\n",
       "    <tr>\n",
       "      <th>mean</th>\n",
       "      <td>0.148576</td>\n",
       "      <td>0.162667</td>\n",
       "    </tr>\n",
       "    <tr>\n",
       "      <th>std</th>\n",
       "      <td>0.007545</td>\n",
       "      <td>0.004045</td>\n",
       "    </tr>\n",
       "  </tbody>\n",
       "</table>\n",
       "</div>"
      ]
     },
     "execution_count": 66,
     "metadata": {},
     "output_type": "execute_result"
    }
   ],
   "execution_count": 66
  },
  {
   "metadata": {
    "ExecuteTime": {
     "end_time": "2025-01-28T03:47:40.250174Z",
     "start_time": "2025-01-28T03:47:40.242489Z"
    }
   },
   "cell_type": "code",
   "source": [
    "pipe.fit(x, y)\n",
    "y_pred = pipe.predict(x_test_from_manual.fillna(0))\n",
    "weighted_accuracy(y_test_from_manual, y_pred)"
   ],
   "id": "4bc933ed67266f3e",
   "outputs": [
    {
     "data": {
      "text/plain": [
       "0.17260857073161806"
      ]
     },
     "execution_count": 69,
     "metadata": {},
     "output_type": "execute_result"
    }
   ],
   "execution_count": 69
  },
  {
   "metadata": {},
   "cell_type": "markdown",
   "source": [
    "# Результаты\n",
    "Такой робастный способ показал плохие результаты – на 10 пп ниже, чем baseline"
   ],
   "id": "34f50b04329ac174"
  },
  {
   "metadata": {},
   "cell_type": "code",
   "outputs": [],
   "execution_count": null,
   "source": "\n",
   "id": "e31bb20708ebcff7"
  }
 ],
 "metadata": {
  "kernelspec": {
   "display_name": "Python 3",
   "language": "python",
   "name": "python3"
  },
  "language_info": {
   "codemirror_mode": {
    "name": "ipython",
    "version": 2
   },
   "file_extension": ".py",
   "mimetype": "text/x-python",
   "name": "python",
   "nbconvert_exporter": "python",
   "pygments_lexer": "ipython2",
   "version": "2.7.6"
  }
 },
 "nbformat": 4,
 "nbformat_minor": 5
}
