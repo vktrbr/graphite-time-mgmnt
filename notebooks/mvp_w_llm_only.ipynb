{
 "cells": [
  {
   "cell_type": "code",
   "id": "initial_id",
   "metadata": {
    "collapsed": true,
    "ExecuteTime": {
     "end_time": "2025-01-28T02:30:51.236225Z",
     "start_time": "2025-01-28T02:30:48.521031Z"
    }
   },
   "source": [
    "from loguru import logger\n",
    "from sklearn.pipeline import Pipeline\n",
    "from sklearn.linear_model import LinearRegression, LogisticRegression\n",
    "from sklearn.model_selection import StratifiedKFold\n",
    "from sklearn.preprocessing import StandardScaler\n",
    "\n",
    "import pandas as pd\n",
    "import numpy as np\n",
    "from src.config import BaseConfig\n",
    "from src.modeling.metrics import weighted_accuracy\n",
    "from tqdm import tqdm\n",
    "import gc\n",
    "\n",
    "from sentence_transformers.cross_encoder import CrossEncoder\n",
    "\n",
    "config = BaseConfig()"
   ],
   "outputs": [],
   "execution_count": 1
  },
  {
   "metadata": {
    "ExecuteTime": {
     "end_time": "2025-01-28T03:48:34.307892Z",
     "start_time": "2025-01-28T03:48:34.286611Z"
    }
   },
   "cell_type": "code",
   "source": [
    "path = config.processed_data_dir / \"final_data_to_train.json\"\n",
    "test_keys_path = config.processed_data_dir / \"test_tasks.csv\"\n",
    "df = pd.read_json(path)\n",
    "test_keys = pd.read_csv(test_keys_path)\n",
    "\n",
    "df[\"time_to_complete_hours_transformed\"] = df[\"time_to_complete_hours\"].clip(2, 12)  # clip between 2 and 24 hours\n",
    "df[\"time_to_complete_hours_transformed\"] = df[\"time_to_complete_hours_transformed\"] // 2 * 2  # round to the nearest even number\n",
    "\n",
    "y = df[\"time_to_complete_hours_transformed\"]\n",
    "x = df[\"task_text\"]\n",
    "\n",
    "y = y[~df.jira_key.isin(test_keys.jira_key)]\n",
    "x = x[~df.jira_key.isin(test_keys.jira_key)]\n",
    "\n",
    "y_test_from_manual = y[~df.jira_key.isin(test_keys.jira_key)]\n",
    "x_test_from_manual = x[~df.jira_key.isin(test_keys.jira_key)]\n",
    "\n",
    "y.value_counts().sort_index()\n",
    "df.head(0)"
   ],
   "id": "f312f07b03576344",
   "outputs": [
    {
     "data": {
      "text/plain": [
       "Empty DataFrame\n",
       "Columns: [assignee_level_order, jira_key, weeks_since_member_join, time_to_complete_hours, task_text, time_to_complete_hours_transformed]\n",
       "Index: []"
      ],
      "text/html": [
       "<div>\n",
       "<style scoped>\n",
       "    .dataframe tbody tr th:only-of-type {\n",
       "        vertical-align: middle;\n",
       "    }\n",
       "\n",
       "    .dataframe tbody tr th {\n",
       "        vertical-align: top;\n",
       "    }\n",
       "\n",
       "    .dataframe thead th {\n",
       "        text-align: right;\n",
       "    }\n",
       "</style>\n",
       "<table border=\"1\" class=\"dataframe\">\n",
       "  <thead>\n",
       "    <tr style=\"text-align: right;\">\n",
       "      <th></th>\n",
       "      <th>assignee_level_order</th>\n",
       "      <th>jira_key</th>\n",
       "      <th>weeks_since_member_join</th>\n",
       "      <th>time_to_complete_hours</th>\n",
       "      <th>task_text</th>\n",
       "      <th>time_to_complete_hours_transformed</th>\n",
       "    </tr>\n",
       "  </thead>\n",
       "  <tbody>\n",
       "  </tbody>\n",
       "</table>\n",
       "</div>"
      ]
     },
     "execution_count": 77,
     "metadata": {},
     "output_type": "execute_result"
    }
   ],
   "execution_count": 77
  },
  {
   "metadata": {},
   "cell_type": "markdown",
   "source": [
    "# Simple architecture\n",
    "\n",
    "\n",
    "1. Skip 15 first tasks – it will be used for example for future\n",
    "2. For each task get 5 most relevant by Cross Encoder.\n",
    "3. Update corpus for each task by time (jira_key is enough to order)\n",
    "4. Make 5 more columns with their time_to_complete_hours\n",
    "5. Use LLM to ask about estimated time to complete task"
   ],
   "id": "e7a689daf580547e"
  },
  {
   "metadata": {},
   "cell_type": "markdown",
   "source": "# Data preprocessing",
   "id": "c6918c3ee8a28bd7"
  },
  {
   "metadata": {
    "ExecuteTime": {
     "end_time": "2025-01-28T03:18:50.916258Z",
     "start_time": "2025-01-28T03:18:50.896480Z"
    }
   },
   "cell_type": "code",
   "source": [
    "path = config.processed_data_dir / \"final_data_to_train_w_relevant_previous_tasks.json\"\n",
    "\n",
    "data_w_relevance = pd.read_json(path)\n",
    "data_w_relevance.columns = [\"jira_key\", \"relevant_tasks\"]\n",
    "data_w_relevance.head(1)"
   ],
   "id": "fb371548fa606e08",
   "outputs": [
    {
     "data": {
      "text/plain": [
       "  jira_key relevant_tasks\n",
       "0  PRT-101             {}"
      ],
      "text/html": [
       "<div>\n",
       "<style scoped>\n",
       "    .dataframe tbody tr th:only-of-type {\n",
       "        vertical-align: middle;\n",
       "    }\n",
       "\n",
       "    .dataframe tbody tr th {\n",
       "        vertical-align: top;\n",
       "    }\n",
       "\n",
       "    .dataframe thead th {\n",
       "        text-align: right;\n",
       "    }\n",
       "</style>\n",
       "<table border=\"1\" class=\"dataframe\">\n",
       "  <thead>\n",
       "    <tr style=\"text-align: right;\">\n",
       "      <th></th>\n",
       "      <th>jira_key</th>\n",
       "      <th>relevant_tasks</th>\n",
       "    </tr>\n",
       "  </thead>\n",
       "  <tbody>\n",
       "    <tr>\n",
       "      <th>0</th>\n",
       "      <td>PRT-101</td>\n",
       "      <td>{}</td>\n",
       "    </tr>\n",
       "  </tbody>\n",
       "</table>\n",
       "</div>"
      ]
     },
     "execution_count": 46,
     "metadata": {},
     "output_type": "execute_result"
    }
   ],
   "execution_count": 46
  },
  {
   "metadata": {
    "ExecuteTime": {
     "end_time": "2025-01-28T03:18:51.817783Z",
     "start_time": "2025-01-28T03:18:51.458631Z"
    }
   },
   "cell_type": "code",
   "source": [
    "def enrich_task(task: dict) -> dict:\n",
    "    \"\"\"\n",
    "    By jira key add info about assignee\n",
    "\n",
    "    :param task:\n",
    "    :return:\n",
    "    \"\"\"\n",
    "    try:\n",
    "        task = task[\"corpus\"]\n",
    "        assignee_level_order = df[df[\"jira_key\"] == task[\"jira_key\"]][\"assignee_level_order\"].values[0]\n",
    "        weeks_since_member_join = df[df[\"jira_key\"] == task[\"jira_key\"]][\"weeks_since_member_join\"].values[0]\n",
    "\n",
    "        task[\"assignee_level_order\"] = assignee_level_order\n",
    "        task[\"weeks_since_member_join\"] = weeks_since_member_join\n",
    "    except Exception as e:\n",
    "        logger.error(e)\n",
    "        task[\"assignee_level_order\"] = np.nan\n",
    "        task[\"weeks_since_member_join\"] = np.nan\n",
    "\n",
    "    return task\n",
    "\n",
    "\n",
    "def enrich_corpus(corpus: list) -> list:\n",
    "    \"\"\"\n",
    "    Enrich each task in corpus\n",
    "\n",
    "    :param corpus:\n",
    "    :return:\n",
    "    \"\"\"\n",
    "    return [enrich_task(task) for task in corpus]\n",
    "\n",
    "\n",
    "data_w_relevance.relevant_tasks = data_w_relevance.relevant_tasks.apply(enrich_corpus)\n"
   ],
   "id": "8d78f0c73736ee9f",
   "outputs": [],
   "execution_count": 47
  },
  {
   "metadata": {
    "ExecuteTime": {
     "end_time": "2025-01-28T03:21:49.881078Z",
     "start_time": "2025-01-28T03:21:49.874240Z"
    }
   },
   "cell_type": "code",
   "source": [
    "data = df.merge(data_w_relevance, on=\"jira_key\").copy()\n",
    "data.sample(0)"
   ],
   "id": "bfed9a500eaa5532",
   "outputs": [
    {
     "data": {
      "text/plain": [
       "Empty DataFrame\n",
       "Columns: [assignee_level_order, jira_key, weeks_since_member_join, time_to_complete_hours, task_text, relevant_tasks]\n",
       "Index: []"
      ],
      "text/html": [
       "<div>\n",
       "<style scoped>\n",
       "    .dataframe tbody tr th:only-of-type {\n",
       "        vertical-align: middle;\n",
       "    }\n",
       "\n",
       "    .dataframe tbody tr th {\n",
       "        vertical-align: top;\n",
       "    }\n",
       "\n",
       "    .dataframe thead th {\n",
       "        text-align: right;\n",
       "    }\n",
       "</style>\n",
       "<table border=\"1\" class=\"dataframe\">\n",
       "  <thead>\n",
       "    <tr style=\"text-align: right;\">\n",
       "      <th></th>\n",
       "      <th>assignee_level_order</th>\n",
       "      <th>jira_key</th>\n",
       "      <th>weeks_since_member_join</th>\n",
       "      <th>time_to_complete_hours</th>\n",
       "      <th>task_text</th>\n",
       "      <th>relevant_tasks</th>\n",
       "    </tr>\n",
       "  </thead>\n",
       "  <tbody>\n",
       "  </tbody>\n",
       "</table>\n",
       "</div>"
      ]
     },
     "execution_count": 67,
     "metadata": {},
     "output_type": "execute_result"
    }
   ],
   "execution_count": 67
  },
  {
   "metadata": {
    "ExecuteTime": {
     "end_time": "2025-01-28T02:30:52.832704Z",
     "start_time": "2025-01-28T02:30:52.821460Z"
    }
   },
   "cell_type": "code",
   "source": "data.to_json(config.processed_data_dir / \"final_data_to_train_w_relevant_previous_tasks_enriched.json\", orient=\"records\")",
   "id": "9b5f207a55d01a16",
   "outputs": [],
   "execution_count": 6
  },
  {
   "metadata": {
    "ExecuteTime": {
     "end_time": "2025-01-28T02:30:53.548271Z",
     "start_time": "2025-01-28T02:30:53.309404Z"
    }
   },
   "cell_type": "code",
   "source": "from src.tools.ask_anthropic import QuerySchema, TaskEstimator",
   "id": "c51e0417fdb192dc",
   "outputs": [],
   "execution_count": 7
  },
  {
   "metadata": {
    "ExecuteTime": {
     "end_time": "2025-01-28T03:09:56.017623Z",
     "start_time": "2025-01-28T02:38:07.326744Z"
    }
   },
   "cell_type": "code",
   "source": [
    "task_estimator = TaskEstimator()\n",
    "\n",
    "queries = []\n",
    "results = []\n",
    "\n",
    "for task in tqdm(data.to_dict(orient=\"records\")):\n",
    "    q = QuerySchema(\n",
    "        current_task=task[\"task_text\"],\n",
    "        related_tasks=task[\"relevant_tasks\"],\n",
    "        weeks_since_member_join=task[\"weeks_since_member_join\"],\n",
    "        assignee_level_order=task[\"assignee_level_order\"]\n",
    "    )\n",
    "    r = task_estimator.estimate_task_time(q)\n",
    "\n",
    "    queries.append(q)\n",
    "    results.append(r)\n"
   ],
   "id": "afb825eb37c29d10",
   "outputs": [
    {
     "name": "stderr",
     "output_type": "stream",
     "text": [
      "100%|██████████| 487/487 [31:48<00:00,  3.92s/it]\n"
     ]
    }
   ],
   "execution_count": 23
  },
  {
   "metadata": {
    "ExecuteTime": {
     "end_time": "2025-01-28T03:18:59.082554Z",
     "start_time": "2025-01-28T03:18:59.054376Z"
    }
   },
   "cell_type": "code",
   "source": [
    "result = pd.DataFrame({\n",
    "    \"query\": queries,\n",
    "    \"result\": results\n",
    "})\n",
    "\n",
    "result[\"query\"] = result[\"query\"].apply(lambda x: x.model_dump())\n",
    "result.result = result[\"result\"].apply(lambda x: x.model_dump())\n",
    "\n",
    "result.to_json(\n",
    "    config.processed_data_dir / \"final_data_to_train_w_relevant_previous_tasks_enriched_estimated.json\",\n",
    "    orient=\"records\",\n",
    "    indent=4\n",
    ")"
   ],
   "id": "bf0790afffffbc62",
   "outputs": [],
   "execution_count": 49
  },
  {
   "metadata": {
    "ExecuteTime": {
     "end_time": "2025-01-28T03:21:59.950033Z",
     "start_time": "2025-01-28T03:21:59.945731Z"
    }
   },
   "cell_type": "code",
   "source": [
    "y = data[\"time_to_complete_hours\"]\n",
    "y_pred = result[\"result\"].apply(lambda x: x[\"estimated_time\"])\n",
    "\n",
    "weighted_accuracy(y, y_pred)"
   ],
   "id": "fde19da8352673a1",
   "outputs": [
    {
     "data": {
      "text/plain": [
       "0.18462757527733753"
      ]
     },
     "execution_count": 68,
     "metadata": {},
     "output_type": "execute_result"
    }
   ],
   "execution_count": 68
  },
  {
   "metadata": {
    "ExecuteTime": {
     "end_time": "2025-01-28T03:22:00.917076Z",
     "start_time": "2025-01-28T03:22:00.911313Z"
    }
   },
   "cell_type": "code",
   "source": [
    "pd.DataFrame(\n",
    "    {\n",
    "        \"y\": y,\n",
    "        \"y_pred\": y_pred\n",
    "    }\n",
    ").corr()"
   ],
   "id": "bb24b7d60a747e14",
   "outputs": [
    {
     "data": {
      "text/plain": [
       "               y    y_pred\n",
       "y       1.000000  0.315511\n",
       "y_pred  0.315511  1.000000"
      ],
      "text/html": [
       "<div>\n",
       "<style scoped>\n",
       "    .dataframe tbody tr th:only-of-type {\n",
       "        vertical-align: middle;\n",
       "    }\n",
       "\n",
       "    .dataframe tbody tr th {\n",
       "        vertical-align: top;\n",
       "    }\n",
       "\n",
       "    .dataframe thead th {\n",
       "        text-align: right;\n",
       "    }\n",
       "</style>\n",
       "<table border=\"1\" class=\"dataframe\">\n",
       "  <thead>\n",
       "    <tr style=\"text-align: right;\">\n",
       "      <th></th>\n",
       "      <th>y</th>\n",
       "      <th>y_pred</th>\n",
       "    </tr>\n",
       "  </thead>\n",
       "  <tbody>\n",
       "    <tr>\n",
       "      <th>y</th>\n",
       "      <td>1.000000</td>\n",
       "      <td>0.315511</td>\n",
       "    </tr>\n",
       "    <tr>\n",
       "      <th>y_pred</th>\n",
       "      <td>0.315511</td>\n",
       "      <td>1.000000</td>\n",
       "    </tr>\n",
       "  </tbody>\n",
       "</table>\n",
       "</div>"
      ]
     },
     "execution_count": 69,
     "metadata": {},
     "output_type": "execute_result"
    }
   ],
   "execution_count": 69
  },
  {
   "metadata": {
    "ExecuteTime": {
     "end_time": "2025-01-28T03:22:01.929448Z",
     "start_time": "2025-01-28T03:22:01.924469Z"
    }
   },
   "cell_type": "code",
   "source": [
    "preds = pd.DataFrame(\n",
    "    {\n",
    "        \"y_true\": y,\n",
    "        \"y_pred\": y_pred\n",
    "    }\n",
    ")\n",
    "\n",
    "preds.groupby(\"y_true\")[\"y_pred\"].mean()\n"
   ],
   "id": "fc78b445c4a5448c",
   "outputs": [
    {
     "data": {
      "text/plain": [
       "y_true\n",
       "2     5.920000\n",
       "4     6.679245\n",
       "6     6.260870\n",
       "8     7.780488\n",
       "10    6.666667\n",
       "12    8.602740\n",
       "Name: y_pred, dtype: float64"
      ]
     },
     "execution_count": 70,
     "metadata": {},
     "output_type": "execute_result"
    }
   ],
   "execution_count": 70
  },
  {
   "metadata": {
    "ExecuteTime": {
     "end_time": "2025-01-28T03:23:05.958831Z",
     "start_time": "2025-01-28T03:23:05.948214Z"
    }
   },
   "cell_type": "code",
   "source": [
    "preds[\"cnt\"] = 1\n",
    "preds.pivot_table(index=\"y_true\", columns=\"y_pred\", values=\"cnt\", aggfunc=\"count\")"
   ],
   "id": "7c3f6e06ca19d8c5",
   "outputs": [
    {
     "data": {
      "text/plain": [
       "y_pred   2     4     8     16\n",
       "y_true                       \n",
       "2       8.0  96.0  94.0   2.0\n",
       "4       2.0  42.0  57.0   5.0\n",
       "6       NaN  10.0  13.0   NaN\n",
       "8       1.0  19.0  54.0   8.0\n",
       "10      NaN   1.0   2.0   NaN\n",
       "12      NaN  17.0  42.0  14.0"
      ],
      "text/html": [
       "<div>\n",
       "<style scoped>\n",
       "    .dataframe tbody tr th:only-of-type {\n",
       "        vertical-align: middle;\n",
       "    }\n",
       "\n",
       "    .dataframe tbody tr th {\n",
       "        vertical-align: top;\n",
       "    }\n",
       "\n",
       "    .dataframe thead th {\n",
       "        text-align: right;\n",
       "    }\n",
       "</style>\n",
       "<table border=\"1\" class=\"dataframe\">\n",
       "  <thead>\n",
       "    <tr style=\"text-align: right;\">\n",
       "      <th>y_pred</th>\n",
       "      <th>2</th>\n",
       "      <th>4</th>\n",
       "      <th>8</th>\n",
       "      <th>16</th>\n",
       "    </tr>\n",
       "    <tr>\n",
       "      <th>y_true</th>\n",
       "      <th></th>\n",
       "      <th></th>\n",
       "      <th></th>\n",
       "      <th></th>\n",
       "    </tr>\n",
       "  </thead>\n",
       "  <tbody>\n",
       "    <tr>\n",
       "      <th>2</th>\n",
       "      <td>8.0</td>\n",
       "      <td>96.0</td>\n",
       "      <td>94.0</td>\n",
       "      <td>2.0</td>\n",
       "    </tr>\n",
       "    <tr>\n",
       "      <th>4</th>\n",
       "      <td>2.0</td>\n",
       "      <td>42.0</td>\n",
       "      <td>57.0</td>\n",
       "      <td>5.0</td>\n",
       "    </tr>\n",
       "    <tr>\n",
       "      <th>6</th>\n",
       "      <td>NaN</td>\n",
       "      <td>10.0</td>\n",
       "      <td>13.0</td>\n",
       "      <td>NaN</td>\n",
       "    </tr>\n",
       "    <tr>\n",
       "      <th>8</th>\n",
       "      <td>1.0</td>\n",
       "      <td>19.0</td>\n",
       "      <td>54.0</td>\n",
       "      <td>8.0</td>\n",
       "    </tr>\n",
       "    <tr>\n",
       "      <th>10</th>\n",
       "      <td>NaN</td>\n",
       "      <td>1.0</td>\n",
       "      <td>2.0</td>\n",
       "      <td>NaN</td>\n",
       "    </tr>\n",
       "    <tr>\n",
       "      <th>12</th>\n",
       "      <td>NaN</td>\n",
       "      <td>17.0</td>\n",
       "      <td>42.0</td>\n",
       "      <td>14.0</td>\n",
       "    </tr>\n",
       "  </tbody>\n",
       "</table>\n",
       "</div>"
      ]
     },
     "execution_count": 74,
     "metadata": {},
     "output_type": "execute_result"
    }
   ],
   "execution_count": 74
  },
  {
   "metadata": {
    "ExecuteTime": {
     "end_time": "2025-01-28T03:50:53.444557Z",
     "start_time": "2025-01-28T03:50:53.441681Z"
    }
   },
   "cell_type": "code",
   "source": [
    "test = preds.loc[y_test_from_manual.index]\n",
    "\n",
    "weighted_accuracy(test[\"y_true\"], test[\"y_pred\"])"
   ],
   "id": "5974c59fcdd60ef3",
   "outputs": [
    {
     "data": {
      "text/plain": [
       "0.19834024896265556"
      ]
     },
     "execution_count": 81,
     "metadata": {},
     "output_type": "execute_result"
    }
   ],
   "execution_count": 81
  },
  {
   "metadata": {},
   "cell_type": "markdown",
   "source": [
    "# Результаты\n",
    "LLM standalone показала лучшие результаты. 18% Weighted accuracy"
   ],
   "id": "34f50b04329ac174"
  },
  {
   "metadata": {
    "ExecuteTime": {
     "end_time": "2025-01-28T03:49:31.106432Z",
     "start_time": "2025-01-28T03:49:31.095459Z"
    }
   },
   "cell_type": "code",
   "source": "",
   "id": "e31bb20708ebcff7",
   "outputs": [
    {
     "data": {
      "text/plain": [
       "                                                 query  \\\n",
       "0    {'current_task': '**Summary:** Verify and vali...   \n",
       "1    {'current_task': '**Summary:** Create a new si...   \n",
       "2    {'current_task': '**Summary:** Create a compre...   \n",
       "3    {'current_task': '**Summary:** Optimize longli...   \n",
       "4    {'current_task': '**Summary:** Analyze the ris...   \n",
       "..                                                 ...   \n",
       "482  {'current_task': '**Summary:** Lead Monnai int...   \n",
       "483  {'current_task': '**Summary:** Create a simpli...   \n",
       "484  {'current_task': '**Summary:** Create and vali...   \n",
       "485  {'current_task': '**Summary:** Analyze and com...   \n",
       "486  {'current_task': '**Summary:** Conduct compreh...   \n",
       "\n",
       "                                                result  \n",
       "0    {'current_task': 'Verify and validate testpack...  \n",
       "1    {'current_task': 'Create a new simulation for ...  \n",
       "2    {'current_task': 'Create a comprehensive mind ...  \n",
       "3    {'current_task': 'Optimize longlists to handle...  \n",
       "4    {'current_task': 'Analyze the risk impact of t...  \n",
       "..                                                 ...  \n",
       "482  {'current_task': 'Lead Monnai integration to p...  \n",
       "483  {'current_task': 'Create a simplified Risk Ove...  \n",
       "484  {'current_task': 'Create and validate a Proof ...  \n",
       "485  {'current_task': 'Analyze and compare Accounts...  \n",
       "486  {'current_task': 'Conduct comprehensive econom...  \n",
       "\n",
       "[487 rows x 2 columns]"
      ],
      "text/html": [
       "<div>\n",
       "<style scoped>\n",
       "    .dataframe tbody tr th:only-of-type {\n",
       "        vertical-align: middle;\n",
       "    }\n",
       "\n",
       "    .dataframe tbody tr th {\n",
       "        vertical-align: top;\n",
       "    }\n",
       "\n",
       "    .dataframe thead th {\n",
       "        text-align: right;\n",
       "    }\n",
       "</style>\n",
       "<table border=\"1\" class=\"dataframe\">\n",
       "  <thead>\n",
       "    <tr style=\"text-align: right;\">\n",
       "      <th></th>\n",
       "      <th>query</th>\n",
       "      <th>result</th>\n",
       "    </tr>\n",
       "  </thead>\n",
       "  <tbody>\n",
       "    <tr>\n",
       "      <th>0</th>\n",
       "      <td>{'current_task': '**Summary:** Verify and vali...</td>\n",
       "      <td>{'current_task': 'Verify and validate testpack...</td>\n",
       "    </tr>\n",
       "    <tr>\n",
       "      <th>1</th>\n",
       "      <td>{'current_task': '**Summary:** Create a new si...</td>\n",
       "      <td>{'current_task': 'Create a new simulation for ...</td>\n",
       "    </tr>\n",
       "    <tr>\n",
       "      <th>2</th>\n",
       "      <td>{'current_task': '**Summary:** Create a compre...</td>\n",
       "      <td>{'current_task': 'Create a comprehensive mind ...</td>\n",
       "    </tr>\n",
       "    <tr>\n",
       "      <th>3</th>\n",
       "      <td>{'current_task': '**Summary:** Optimize longli...</td>\n",
       "      <td>{'current_task': 'Optimize longlists to handle...</td>\n",
       "    </tr>\n",
       "    <tr>\n",
       "      <th>4</th>\n",
       "      <td>{'current_task': '**Summary:** Analyze the ris...</td>\n",
       "      <td>{'current_task': 'Analyze the risk impact of t...</td>\n",
       "    </tr>\n",
       "    <tr>\n",
       "      <th>...</th>\n",
       "      <td>...</td>\n",
       "      <td>...</td>\n",
       "    </tr>\n",
       "    <tr>\n",
       "      <th>482</th>\n",
       "      <td>{'current_task': '**Summary:** Lead Monnai int...</td>\n",
       "      <td>{'current_task': 'Lead Monnai integration to p...</td>\n",
       "    </tr>\n",
       "    <tr>\n",
       "      <th>483</th>\n",
       "      <td>{'current_task': '**Summary:** Create a simpli...</td>\n",
       "      <td>{'current_task': 'Create a simplified Risk Ove...</td>\n",
       "    </tr>\n",
       "    <tr>\n",
       "      <th>484</th>\n",
       "      <td>{'current_task': '**Summary:** Create and vali...</td>\n",
       "      <td>{'current_task': 'Create and validate a Proof ...</td>\n",
       "    </tr>\n",
       "    <tr>\n",
       "      <th>485</th>\n",
       "      <td>{'current_task': '**Summary:** Analyze and com...</td>\n",
       "      <td>{'current_task': 'Analyze and compare Accounts...</td>\n",
       "    </tr>\n",
       "    <tr>\n",
       "      <th>486</th>\n",
       "      <td>{'current_task': '**Summary:** Conduct compreh...</td>\n",
       "      <td>{'current_task': 'Conduct comprehensive econom...</td>\n",
       "    </tr>\n",
       "  </tbody>\n",
       "</table>\n",
       "<p>487 rows × 2 columns</p>\n",
       "</div>"
      ]
     },
     "execution_count": 78,
     "metadata": {},
     "output_type": "execute_result"
    }
   ],
   "execution_count": 78
  }
 ],
 "metadata": {
  "kernelspec": {
   "display_name": "Python 3",
   "language": "python",
   "name": "python3"
  },
  "language_info": {
   "codemirror_mode": {
    "name": "ipython",
    "version": 2
   },
   "file_extension": ".py",
   "mimetype": "text/x-python",
   "name": "python",
   "nbconvert_exporter": "python",
   "pygments_lexer": "ipython2",
   "version": "2.7.6"
  }
 },
 "nbformat": 4,
 "nbformat_minor": 5
}
